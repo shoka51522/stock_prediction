{
 "cells": [
  {
   "cell_type": "code",
   "execution_count": 1,
   "metadata": {},
   "outputs": [],
   "source": [
    "import pandas as pd\n",
    "import numpy as np\n",
    "import matplotlib.pyplot as plt\n",
    "import plotly.express as px\n",
    "import plotly.graph_objects as go\n",
    "import lightgbm as lgb\n",
    "import sklearn\n",
    "\n",
    "from sklearn.ensemble import GradientBoostingRegressor"
   ]
  },
  {
   "cell_type": "markdown",
   "metadata": {},
   "source": [
    "# load csv"
   ]
  },
  {
   "cell_type": "code",
   "execution_count": 2,
   "metadata": {},
   "outputs": [
    {
     "data": {
      "text/html": [
       "<div>\n",
       "<style scoped>\n",
       "    .dataframe tbody tr th:only-of-type {\n",
       "        vertical-align: middle;\n",
       "    }\n",
       "\n",
       "    .dataframe tbody tr th {\n",
       "        vertical-align: top;\n",
       "    }\n",
       "\n",
       "    .dataframe thead th {\n",
       "        text-align: right;\n",
       "    }\n",
       "</style>\n",
       "<table border=\"1\" class=\"dataframe\">\n",
       "  <thead>\n",
       "    <tr style=\"text-align: right;\">\n",
       "      <th></th>\n",
       "      <th>Date</th>\n",
       "      <th>Open</th>\n",
       "      <th>High</th>\n",
       "      <th>Low</th>\n",
       "      <th>Close</th>\n",
       "      <th>Volume</th>\n",
       "      <th>Dividends</th>\n",
       "      <th>Stock Splits</th>\n",
       "    </tr>\n",
       "  </thead>\n",
       "  <tbody>\n",
       "    <tr>\n",
       "      <th>0</th>\n",
       "      <td>2020-04-01</td>\n",
       "      <td>8.547755</td>\n",
       "      <td>8.682064</td>\n",
       "      <td>8.442228</td>\n",
       "      <td>8.672470</td>\n",
       "      <td>11980605</td>\n",
       "      <td>0.0</td>\n",
       "      <td>0</td>\n",
       "    </tr>\n",
       "    <tr>\n",
       "      <th>1</th>\n",
       "      <td>2020-04-06</td>\n",
       "      <td>8.662876</td>\n",
       "      <td>8.691657</td>\n",
       "      <td>8.442227</td>\n",
       "      <td>8.653283</td>\n",
       "      <td>20543643</td>\n",
       "      <td>0.0</td>\n",
       "      <td>0</td>\n",
       "    </tr>\n",
       "    <tr>\n",
       "      <th>2</th>\n",
       "      <td>2020-04-07</td>\n",
       "      <td>8.787590</td>\n",
       "      <td>8.893119</td>\n",
       "      <td>8.643689</td>\n",
       "      <td>8.701249</td>\n",
       "      <td>18420001</td>\n",
       "      <td>0.0</td>\n",
       "      <td>0</td>\n",
       "    </tr>\n",
       "    <tr>\n",
       "      <th>3</th>\n",
       "      <td>2020-04-08</td>\n",
       "      <td>8.701250</td>\n",
       "      <td>9.180922</td>\n",
       "      <td>8.691657</td>\n",
       "      <td>9.132956</td>\n",
       "      <td>32877778</td>\n",
       "      <td>0.0</td>\n",
       "      <td>0</td>\n",
       "    </tr>\n",
       "    <tr>\n",
       "      <th>4</th>\n",
       "      <td>2020-04-09</td>\n",
       "      <td>9.248076</td>\n",
       "      <td>10.025145</td>\n",
       "      <td>9.238483</td>\n",
       "      <td>9.929211</td>\n",
       "      <td>65867981</td>\n",
       "      <td>0.0</td>\n",
       "      <td>0</td>\n",
       "    </tr>\n",
       "    <tr>\n",
       "      <th>5</th>\n",
       "      <td>2020-04-10</td>\n",
       "      <td>9.785308</td>\n",
       "      <td>9.929211</td>\n",
       "      <td>9.497505</td>\n",
       "      <td>9.833276</td>\n",
       "      <td>25953144</td>\n",
       "      <td>0.0</td>\n",
       "      <td>0</td>\n",
       "    </tr>\n",
       "    <tr>\n",
       "      <th>6</th>\n",
       "      <td>2020-04-13</td>\n",
       "      <td>9.689374</td>\n",
       "      <td>9.833275</td>\n",
       "      <td>9.641406</td>\n",
       "      <td>9.737340</td>\n",
       "      <td>14189305</td>\n",
       "      <td>0.0</td>\n",
       "      <td>0</td>\n",
       "    </tr>\n",
       "  </tbody>\n",
       "</table>\n",
       "</div>"
      ],
      "text/plain": [
       "        Date      Open       High       Low     Close    Volume  Dividends  \\\n",
       "0 2020-04-01  8.547755   8.682064  8.442228  8.672470  11980605        0.0   \n",
       "1 2020-04-06  8.662876   8.691657  8.442227  8.653283  20543643        0.0   \n",
       "2 2020-04-07  8.787590   8.893119  8.643689  8.701249  18420001        0.0   \n",
       "3 2020-04-08  8.701250   9.180922  8.691657  9.132956  32877778        0.0   \n",
       "4 2020-04-09  9.248076  10.025145  9.238483  9.929211  65867981        0.0   \n",
       "5 2020-04-10  9.785308   9.929211  9.497505  9.833276  25953144        0.0   \n",
       "6 2020-04-13  9.689374   9.833275  9.641406  9.737340  14189305        0.0   \n",
       "\n",
       "   Stock Splits  \n",
       "0             0  \n",
       "1             0  \n",
       "2             0  \n",
       "3             0  \n",
       "4             0  \n",
       "5             0  \n",
       "6             0  "
      ]
     },
     "execution_count": 2,
     "metadata": {},
     "output_type": "execute_result"
    }
   ],
   "source": [
    "# use 2818.TW as predict target\n",
    "df2618 = pd.read_csv('04.trade data/trade2618.csv')\n",
    "\n",
    "# date col\n",
    "df2618['Date'] = pd.to_datetime(df2618['Date'])\n",
    "df2618 = df2618.drop(['Date.1'], axis=1)\n",
    "\n",
    "df2618.head(7)"
   ]
  },
  {
   "cell_type": "markdown",
   "metadata": {},
   "source": [
    "# baseline model\n",
    "- model 1: from close of the day predict close of tomorow\n",
    "- model 2: from high of the day predict high of tomorrow\n",
    "- model 3: from low of the day predict low of tomorrow"
   ]
  },
  {
   "cell_type": "code",
   "execution_count": 3,
   "metadata": {},
   "outputs": [
    {
     "data": {
      "text/html": [
       "<div>\n",
       "<style scoped>\n",
       "    .dataframe tbody tr th:only-of-type {\n",
       "        vertical-align: middle;\n",
       "    }\n",
       "\n",
       "    .dataframe tbody tr th {\n",
       "        vertical-align: top;\n",
       "    }\n",
       "\n",
       "    .dataframe thead th {\n",
       "        text-align: right;\n",
       "    }\n",
       "</style>\n",
       "<table border=\"1\" class=\"dataframe\">\n",
       "  <thead>\n",
       "    <tr style=\"text-align: right;\">\n",
       "      <th></th>\n",
       "      <th>Date</th>\n",
       "      <th>Open</th>\n",
       "      <th>High</th>\n",
       "      <th>Low</th>\n",
       "      <th>Close</th>\n",
       "      <th>Volume</th>\n",
       "      <th>Dividends</th>\n",
       "      <th>Stock Splits</th>\n",
       "      <th>y1</th>\n",
       "      <th>y2</th>\n",
       "      <th>y3</th>\n",
       "    </tr>\n",
       "  </thead>\n",
       "  <tbody>\n",
       "    <tr>\n",
       "      <th>0</th>\n",
       "      <td>2020-04-01</td>\n",
       "      <td>8.547755</td>\n",
       "      <td>8.682064</td>\n",
       "      <td>8.442228</td>\n",
       "      <td>8.672470</td>\n",
       "      <td>11980605</td>\n",
       "      <td>0.0</td>\n",
       "      <td>0</td>\n",
       "      <td>8.653283</td>\n",
       "      <td>8.691657</td>\n",
       "      <td>8.442227</td>\n",
       "    </tr>\n",
       "    <tr>\n",
       "      <th>1</th>\n",
       "      <td>2020-04-06</td>\n",
       "      <td>8.662876</td>\n",
       "      <td>8.691657</td>\n",
       "      <td>8.442227</td>\n",
       "      <td>8.653283</td>\n",
       "      <td>20543643</td>\n",
       "      <td>0.0</td>\n",
       "      <td>0</td>\n",
       "      <td>8.701249</td>\n",
       "      <td>8.893119</td>\n",
       "      <td>8.643689</td>\n",
       "    </tr>\n",
       "    <tr>\n",
       "      <th>2</th>\n",
       "      <td>2020-04-07</td>\n",
       "      <td>8.787590</td>\n",
       "      <td>8.893119</td>\n",
       "      <td>8.643689</td>\n",
       "      <td>8.701249</td>\n",
       "      <td>18420001</td>\n",
       "      <td>0.0</td>\n",
       "      <td>0</td>\n",
       "      <td>9.132956</td>\n",
       "      <td>9.180922</td>\n",
       "      <td>8.691657</td>\n",
       "    </tr>\n",
       "    <tr>\n",
       "      <th>3</th>\n",
       "      <td>2020-04-08</td>\n",
       "      <td>8.701250</td>\n",
       "      <td>9.180922</td>\n",
       "      <td>8.691657</td>\n",
       "      <td>9.132956</td>\n",
       "      <td>32877778</td>\n",
       "      <td>0.0</td>\n",
       "      <td>0</td>\n",
       "      <td>9.929211</td>\n",
       "      <td>10.025145</td>\n",
       "      <td>9.238483</td>\n",
       "    </tr>\n",
       "    <tr>\n",
       "      <th>4</th>\n",
       "      <td>2020-04-09</td>\n",
       "      <td>9.248076</td>\n",
       "      <td>10.025145</td>\n",
       "      <td>9.238483</td>\n",
       "      <td>9.929211</td>\n",
       "      <td>65867981</td>\n",
       "      <td>0.0</td>\n",
       "      <td>0</td>\n",
       "      <td>9.833276</td>\n",
       "      <td>9.929211</td>\n",
       "      <td>9.497505</td>\n",
       "    </tr>\n",
       "  </tbody>\n",
       "</table>\n",
       "</div>"
      ],
      "text/plain": [
       "        Date      Open       High       Low     Close    Volume  Dividends  \\\n",
       "0 2020-04-01  8.547755   8.682064  8.442228  8.672470  11980605        0.0   \n",
       "1 2020-04-06  8.662876   8.691657  8.442227  8.653283  20543643        0.0   \n",
       "2 2020-04-07  8.787590   8.893119  8.643689  8.701249  18420001        0.0   \n",
       "3 2020-04-08  8.701250   9.180922  8.691657  9.132956  32877778        0.0   \n",
       "4 2020-04-09  9.248076  10.025145  9.238483  9.929211  65867981        0.0   \n",
       "\n",
       "   Stock Splits        y1         y2        y3  \n",
       "0             0  8.653283   8.691657  8.442227  \n",
       "1             0  8.701249   8.893119  8.643689  \n",
       "2             0  9.132956   9.180922  8.691657  \n",
       "3             0  9.929211  10.025145  9.238483  \n",
       "4             0  9.833276   9.929211  9.497505  "
      ]
     },
     "execution_count": 3,
     "metadata": {},
     "output_type": "execute_result"
    }
   ],
   "source": [
    "df2618['y1'] = df2618['Close'].shift(-1)\n",
    "df2618['y2'] = df2618['High'].shift(-1)\n",
    "df2618['y3'] = df2618['Low'].shift(-1)\n",
    "\n",
    "tr, val = df2618[:-int(len(df2618)*0.10)], df2618[-int(len(df2618)*0.10):]\n",
    "val = val.drop(val.tail(1).index) # Drop last row\n",
    "tr.head()"
   ]
  },
  {
   "cell_type": "code",
   "execution_count": 4,
   "metadata": {},
   "outputs": [],
   "source": [
    "def baseline_model_train(train, train_x, train_y, val, val_output):\n",
    "    params = {\n",
    "        'boosting': 'gbdt',\n",
    "        'objective': 'regression',\n",
    "        \"seed\": 5271,\n",
    "        \"n_estimators\": 300,\n",
    "        'num_leaves': 10,\n",
    "        'learning_rate': 0.016,\n",
    "        'verbose': -1\n",
    "    }\n",
    "    \n",
    "    trn_data = lgb.Dataset(train[train_x].values.reshape(-1,1), label = train[train_y])\n",
    "    ts_data = lgb.Dataset(val[train_x].values.reshape(-1,1), label = val[train_y])\n",
    "\n",
    "    model = lgb.train(params,\n",
    "                     train_set=trn_data)\n",
    "    \n",
    "    model_pred = model.predict(val[[train_x,train_y]])\n",
    "    val[val_output] = model_pred\n",
    "\n",
    "    return val"
   ]
  },
  {
   "cell_type": "code",
   "execution_count": 5,
   "metadata": {},
   "outputs": [
    {
     "name": "stderr",
     "output_type": "stream",
     "text": [
      "c:\\Anaconda3\\envs\\public\\lib\\site-packages\\lightgbm\\engine.py:118: UserWarning: Found `n_estimators` in params. Will use it instead of argument\n",
      "  warnings.warn(\"Found `{}` in params. Will use it instead of argument\".format(alias))\n"
     ]
    },
    {
     "data": {
      "text/html": [
       "<div>\n",
       "<style scoped>\n",
       "    .dataframe tbody tr th:only-of-type {\n",
       "        vertical-align: middle;\n",
       "    }\n",
       "\n",
       "    .dataframe tbody tr th {\n",
       "        vertical-align: top;\n",
       "    }\n",
       "\n",
       "    .dataframe thead th {\n",
       "        text-align: right;\n",
       "    }\n",
       "</style>\n",
       "<table border=\"1\" class=\"dataframe\">\n",
       "  <thead>\n",
       "    <tr style=\"text-align: right;\">\n",
       "      <th></th>\n",
       "      <th>Date</th>\n",
       "      <th>Open</th>\n",
       "      <th>High</th>\n",
       "      <th>Low</th>\n",
       "      <th>Close</th>\n",
       "      <th>Volume</th>\n",
       "      <th>Dividends</th>\n",
       "      <th>Stock Splits</th>\n",
       "      <th>y1</th>\n",
       "      <th>y2</th>\n",
       "      <th>y3</th>\n",
       "      <th>gbr_pred_y1</th>\n",
       "      <th>gbr_pred_y2</th>\n",
       "      <th>gbr_pred_y3</th>\n",
       "    </tr>\n",
       "  </thead>\n",
       "  <tbody>\n",
       "    <tr>\n",
       "      <th>529</th>\n",
       "      <td>2022-06-02</td>\n",
       "      <td>33.541921</td>\n",
       "      <td>34.964021</td>\n",
       "      <td>33.394806</td>\n",
       "      <td>34.816906</td>\n",
       "      <td>177272972</td>\n",
       "      <td>0.0</td>\n",
       "      <td>0</td>\n",
       "      <td>34.228451</td>\n",
       "      <td>34.816904</td>\n",
       "      <td>33.934220</td>\n",
       "      <td>34.309348</td>\n",
       "      <td>35.135797</td>\n",
       "      <td>33.707948</td>\n",
       "    </tr>\n",
       "    <tr>\n",
       "      <th>530</th>\n",
       "      <td>2022-06-06</td>\n",
       "      <td>34.718830</td>\n",
       "      <td>34.816904</td>\n",
       "      <td>33.934220</td>\n",
       "      <td>34.228451</td>\n",
       "      <td>111592640</td>\n",
       "      <td>0.0</td>\n",
       "      <td>0</td>\n",
       "      <td>33.443844</td>\n",
       "      <td>34.424602</td>\n",
       "      <td>33.394807</td>\n",
       "      <td>34.309348</td>\n",
       "      <td>35.135797</td>\n",
       "      <td>33.707948</td>\n",
       "    </tr>\n",
       "    <tr>\n",
       "      <th>531</th>\n",
       "      <td>2022-06-07</td>\n",
       "      <td>34.228453</td>\n",
       "      <td>34.424602</td>\n",
       "      <td>33.394807</td>\n",
       "      <td>33.443844</td>\n",
       "      <td>99254056</td>\n",
       "      <td>0.0</td>\n",
       "      <td>0</td>\n",
       "      <td>33.198654</td>\n",
       "      <td>33.934223</td>\n",
       "      <td>32.953465</td>\n",
       "      <td>33.320233</td>\n",
       "      <td>34.342594</td>\n",
       "      <td>33.707948</td>\n",
       "    </tr>\n",
       "    <tr>\n",
       "      <th>532</th>\n",
       "      <td>2022-06-08</td>\n",
       "      <td>33.836148</td>\n",
       "      <td>33.934223</td>\n",
       "      <td>32.953465</td>\n",
       "      <td>33.198654</td>\n",
       "      <td>90488256</td>\n",
       "      <td>0.0</td>\n",
       "      <td>0</td>\n",
       "      <td>33.492882</td>\n",
       "      <td>33.590956</td>\n",
       "      <td>32.561161</td>\n",
       "      <td>33.320233</td>\n",
       "      <td>33.795394</td>\n",
       "      <td>32.957725</td>\n",
       "    </tr>\n",
       "    <tr>\n",
       "      <th>533</th>\n",
       "      <td>2022-06-09</td>\n",
       "      <td>32.953462</td>\n",
       "      <td>33.590956</td>\n",
       "      <td>32.561161</td>\n",
       "      <td>33.492882</td>\n",
       "      <td>64226846</td>\n",
       "      <td>0.0</td>\n",
       "      <td>0</td>\n",
       "      <td>32.217896</td>\n",
       "      <td>33.247694</td>\n",
       "      <td>32.217896</td>\n",
       "      <td>33.320233</td>\n",
       "      <td>33.497231</td>\n",
       "      <td>32.957725</td>\n",
       "    </tr>\n",
       "  </tbody>\n",
       "</table>\n",
       "</div>"
      ],
      "text/plain": [
       "          Date       Open       High        Low      Close     Volume  \\\n",
       "529 2022-06-02  33.541921  34.964021  33.394806  34.816906  177272972   \n",
       "530 2022-06-06  34.718830  34.816904  33.934220  34.228451  111592640   \n",
       "531 2022-06-07  34.228453  34.424602  33.394807  33.443844   99254056   \n",
       "532 2022-06-08  33.836148  33.934223  32.953465  33.198654   90488256   \n",
       "533 2022-06-09  32.953462  33.590956  32.561161  33.492882   64226846   \n",
       "\n",
       "     Dividends  Stock Splits         y1         y2         y3  gbr_pred_y1  \\\n",
       "529        0.0             0  34.228451  34.816904  33.934220    34.309348   \n",
       "530        0.0             0  33.443844  34.424602  33.394807    34.309348   \n",
       "531        0.0             0  33.198654  33.934223  32.953465    33.320233   \n",
       "532        0.0             0  33.492882  33.590956  32.561161    33.320233   \n",
       "533        0.0             0  32.217896  33.247694  32.217896    33.320233   \n",
       "\n",
       "     gbr_pred_y2  gbr_pred_y3  \n",
       "529    35.135797    33.707948  \n",
       "530    35.135797    33.707948  \n",
       "531    34.342594    33.707948  \n",
       "532    33.795394    32.957725  \n",
       "533    33.497231    32.957725  "
      ]
     },
     "execution_count": 5,
     "metadata": {},
     "output_type": "execute_result"
    }
   ],
   "source": [
    "val = baseline_model_train(tr, 'Close', 'y1', val,'gbr_pred_y1')\n",
    "val = baseline_model_train(tr, 'High', 'y2', val,'gbr_pred_y2')\n",
    "val = baseline_model_train(tr, 'Low', 'y3', val,'gbr_pred_y3')\n",
    "val.head()"
   ]
  },
  {
   "cell_type": "code",
   "execution_count": 6,
   "metadata": {},
   "outputs": [],
   "source": [
    "# mape for model evaluation\n",
    "def mape(y_true, y_pred):\n",
    "    return round(np.mean(np.abs((y_true - y_pred) / y_true)) * 100, 2)"
   ]
  },
  {
   "cell_type": "code",
   "execution_count": 7,
   "metadata": {},
   "outputs": [
    {
     "name": "stdout",
     "output_type": "stream",
     "text": [
      "mape of y1: 1.95\n",
      "mape of y2: 1.79\n",
      "mape of y3: 1.97\n"
     ]
    }
   ],
   "source": [
    "print(f'mape of y1: {mape(val[\"y1\"], val[\"gbr_pred_y1\"])}')\n",
    "print(f'mape of y2: {mape(val[\"y2\"], val[\"gbr_pred_y2\"])}')\n",
    "print(f'mape of y3: {mape(val[\"y3\"], val[\"gbr_pred_y3\"])}')"
   ]
  },
  {
   "cell_type": "code",
   "execution_count": 8,
   "metadata": {},
   "outputs": [],
   "source": [
    "model1_results = val.copy()"
   ]
  },
  {
   "cell_type": "markdown",
   "metadata": {},
   "source": [
    "# model: using a seq of past obs.\n",
    "- model1: close as y\n",
    "- model2: high as y\n",
    "- model3: low as y"
   ]
  },
  {
   "cell_type": "code",
   "execution_count": 9,
   "metadata": {},
   "outputs": [],
   "source": [
    "# def function to create features of window\n",
    "def window_func(window_length, input_x, input_y, df):\n",
    "    data = df.copy()\n",
    "\n",
    "    i = 1\n",
    "    while i < window_length:\n",
    "        data[f'x_{i}'] = df[input_x].shift(-i)\n",
    "        i += 1\n",
    "    \n",
    "    if i == window_length:\n",
    "        data[input_y] = df[input_x].shift(-i)\n",
    "    \n",
    "    data = data.dropna(axis = 0)\n",
    "\n",
    "    return data"
   ]
  },
  {
   "cell_type": "code",
   "execution_count": 10,
   "metadata": {},
   "outputs": [],
   "source": [
    "def ma5_model(train, train_x, train_y, val, val_output):\n",
    "    params = {\n",
    "        'boosting': 'gbdt',\n",
    "        'objective': 'regression',\n",
    "        \"seed\": 5271,\n",
    "        \"n_estimators\": 300,\n",
    "        'num_leaves': 10,\n",
    "        'learning_rate': 0.012,\n",
    "        'verbose': -1\n",
    "    }\n",
    "    \n",
    "    trn_data = lgb.Dataset(train[train_x], label = train[train_y])\n",
    "    ts_data = lgb.Dataset(val[train_x], label = val[train_y])\n",
    "\n",
    "    model = lgb.train(params,\n",
    "                     train_set=trn_data)\n",
    "    \n",
    "    model_pred = model.predict(val[train_x+[train_y]])\n",
    "    val[val_output] = model_pred\n",
    "\n",
    "    return val"
   ]
  },
  {
   "cell_type": "code",
   "execution_count": 11,
   "metadata": {},
   "outputs": [
    {
     "data": {
      "text/html": [
       "<div>\n",
       "<style scoped>\n",
       "    .dataframe tbody tr th:only-of-type {\n",
       "        vertical-align: middle;\n",
       "    }\n",
       "\n",
       "    .dataframe tbody tr th {\n",
       "        vertical-align: top;\n",
       "    }\n",
       "\n",
       "    .dataframe thead th {\n",
       "        text-align: right;\n",
       "    }\n",
       "</style>\n",
       "<table border=\"1\" class=\"dataframe\">\n",
       "  <thead>\n",
       "    <tr style=\"text-align: right;\">\n",
       "      <th></th>\n",
       "      <th>Date</th>\n",
       "      <th>Open</th>\n",
       "      <th>High</th>\n",
       "      <th>Low</th>\n",
       "      <th>Close</th>\n",
       "      <th>Volume</th>\n",
       "      <th>Dividends</th>\n",
       "      <th>Stock Splits</th>\n",
       "      <th>y1</th>\n",
       "      <th>y2</th>\n",
       "      <th>y3</th>\n",
       "      <th>x_1</th>\n",
       "      <th>x_2</th>\n",
       "      <th>x_3</th>\n",
       "      <th>x_4</th>\n",
       "    </tr>\n",
       "  </thead>\n",
       "  <tbody>\n",
       "    <tr>\n",
       "      <th>0</th>\n",
       "      <td>2020-04-01</td>\n",
       "      <td>8.547755</td>\n",
       "      <td>8.682064</td>\n",
       "      <td>8.442228</td>\n",
       "      <td>8.672470</td>\n",
       "      <td>11980605</td>\n",
       "      <td>0.0</td>\n",
       "      <td>0</td>\n",
       "      <td>9.833276</td>\n",
       "      <td>9.929211</td>\n",
       "      <td>9.497505</td>\n",
       "      <td>8.442227</td>\n",
       "      <td>8.643689</td>\n",
       "      <td>8.691657</td>\n",
       "      <td>9.238483</td>\n",
       "    </tr>\n",
       "    <tr>\n",
       "      <th>1</th>\n",
       "      <td>2020-04-06</td>\n",
       "      <td>8.662876</td>\n",
       "      <td>8.691657</td>\n",
       "      <td>8.442227</td>\n",
       "      <td>8.653283</td>\n",
       "      <td>20543643</td>\n",
       "      <td>0.0</td>\n",
       "      <td>0</td>\n",
       "      <td>9.737340</td>\n",
       "      <td>9.833275</td>\n",
       "      <td>9.641406</td>\n",
       "      <td>8.643689</td>\n",
       "      <td>8.691657</td>\n",
       "      <td>9.238483</td>\n",
       "      <td>9.497505</td>\n",
       "    </tr>\n",
       "    <tr>\n",
       "      <th>2</th>\n",
       "      <td>2020-04-07</td>\n",
       "      <td>8.787590</td>\n",
       "      <td>8.893119</td>\n",
       "      <td>8.643689</td>\n",
       "      <td>8.701249</td>\n",
       "      <td>18420001</td>\n",
       "      <td>0.0</td>\n",
       "      <td>0</td>\n",
       "      <td>9.833276</td>\n",
       "      <td>9.929211</td>\n",
       "      <td>9.689375</td>\n",
       "      <td>8.691657</td>\n",
       "      <td>9.238483</td>\n",
       "      <td>9.497505</td>\n",
       "      <td>9.641406</td>\n",
       "    </tr>\n",
       "    <tr>\n",
       "      <th>3</th>\n",
       "      <td>2020-04-08</td>\n",
       "      <td>8.701250</td>\n",
       "      <td>9.180922</td>\n",
       "      <td>8.691657</td>\n",
       "      <td>9.132956</td>\n",
       "      <td>32877778</td>\n",
       "      <td>0.0</td>\n",
       "      <td>0</td>\n",
       "      <td>10.217012</td>\n",
       "      <td>10.217012</td>\n",
       "      <td>9.929210</td>\n",
       "      <td>9.238483</td>\n",
       "      <td>9.497505</td>\n",
       "      <td>9.641406</td>\n",
       "      <td>9.689375</td>\n",
       "    </tr>\n",
       "    <tr>\n",
       "      <th>4</th>\n",
       "      <td>2020-04-09</td>\n",
       "      <td>9.248076</td>\n",
       "      <td>10.025145</td>\n",
       "      <td>9.238483</td>\n",
       "      <td>9.929211</td>\n",
       "      <td>65867981</td>\n",
       "      <td>0.0</td>\n",
       "      <td>0</td>\n",
       "      <td>9.977177</td>\n",
       "      <td>10.073111</td>\n",
       "      <td>9.881243</td>\n",
       "      <td>9.497505</td>\n",
       "      <td>9.641406</td>\n",
       "      <td>9.689375</td>\n",
       "      <td>9.929210</td>\n",
       "    </tr>\n",
       "    <tr>\n",
       "      <th>5</th>\n",
       "      <td>2020-04-10</td>\n",
       "      <td>9.785308</td>\n",
       "      <td>9.929211</td>\n",
       "      <td>9.497505</td>\n",
       "      <td>9.833276</td>\n",
       "      <td>25953144</td>\n",
       "      <td>0.0</td>\n",
       "      <td>0</td>\n",
       "      <td>9.881243</td>\n",
       "      <td>10.169046</td>\n",
       "      <td>9.881243</td>\n",
       "      <td>9.641406</td>\n",
       "      <td>9.689375</td>\n",
       "      <td>9.929210</td>\n",
       "      <td>9.881243</td>\n",
       "    </tr>\n",
       "  </tbody>\n",
       "</table>\n",
       "</div>"
      ],
      "text/plain": [
       "        Date      Open       High       Low     Close    Volume  Dividends  \\\n",
       "0 2020-04-01  8.547755   8.682064  8.442228  8.672470  11980605        0.0   \n",
       "1 2020-04-06  8.662876   8.691657  8.442227  8.653283  20543643        0.0   \n",
       "2 2020-04-07  8.787590   8.893119  8.643689  8.701249  18420001        0.0   \n",
       "3 2020-04-08  8.701250   9.180922  8.691657  9.132956  32877778        0.0   \n",
       "4 2020-04-09  9.248076  10.025145  9.238483  9.929211  65867981        0.0   \n",
       "5 2020-04-10  9.785308   9.929211  9.497505  9.833276  25953144        0.0   \n",
       "\n",
       "   Stock Splits         y1         y2        y3       x_1       x_2       x_3  \\\n",
       "0             0   9.833276   9.929211  9.497505  8.442227  8.643689  8.691657   \n",
       "1             0   9.737340   9.833275  9.641406  8.643689  8.691657  9.238483   \n",
       "2             0   9.833276   9.929211  9.689375  8.691657  9.238483  9.497505   \n",
       "3             0  10.217012  10.217012  9.929210  9.238483  9.497505  9.641406   \n",
       "4             0   9.977177  10.073111  9.881243  9.497505  9.641406  9.689375   \n",
       "5             0   9.881243  10.169046  9.881243  9.641406  9.689375  9.929210   \n",
       "\n",
       "        x_4  \n",
       "0  9.238483  \n",
       "1  9.497505  \n",
       "2  9.641406  \n",
       "3  9.689375  \n",
       "4  9.929210  \n",
       "5  9.881243  "
      ]
     },
     "execution_count": 11,
     "metadata": {},
     "output_type": "execute_result"
    }
   ],
   "source": [
    "df2618_1 = window_func(5, 'Close', 'y1', df2618)\n",
    "df2618_1 = window_func(5, 'High', 'y2', df2618_1)\n",
    "df2618_1 = window_func(5, 'Low', 'y3', df2618_1)\n",
    "\n",
    "tr, val = df2618_1[:-int(len(df2618_1)*0.10)], df2618_1[-int(len(df2618_1)*0.10):]\n",
    "tr.head(6)"
   ]
  },
  {
   "cell_type": "code",
   "execution_count": 12,
   "metadata": {},
   "outputs": [
    {
     "name": "stdout",
     "output_type": "stream",
     "text": [
      "mape of y1: 2.59\n"
     ]
    },
    {
     "name": "stderr",
     "output_type": "stream",
     "text": [
      "c:\\Anaconda3\\envs\\public\\lib\\site-packages\\lightgbm\\engine.py:118: UserWarning: Found `n_estimators` in params. Will use it instead of argument\n",
      "  warnings.warn(\"Found `{}` in params. Will use it instead of argument\".format(alias))\n",
      "c:\\Anaconda3\\envs\\public\\lib\\site-packages\\ipykernel_launcher.py:19: SettingWithCopyWarning: \n",
      "A value is trying to be set on a copy of a slice from a DataFrame.\n",
      "Try using .loc[row_indexer,col_indexer] = value instead\n",
      "\n",
      "See the caveats in the documentation: https://pandas.pydata.org/pandas-docs/stable/user_guide/indexing.html#returning-a-view-versus-a-copy\n"
     ]
    }
   ],
   "source": [
    "features = ['x_1','x_2','x_3','x_4'] #'Close'\n",
    "val1 = ma5_model(tr, features, 'y1', val,'gbr_pred_y1')\n",
    "\n",
    "print(f'mape of y1: {mape(val1[\"y1\"], val1[\"gbr_pred_y1\"])}')"
   ]
  },
  {
   "cell_type": "code",
   "execution_count": 13,
   "metadata": {},
   "outputs": [
    {
     "data": {
      "application/vnd.plotly.v1+json": {
       "config": {
        "plotlyServerURL": "https://plot.ly"
       },
       "data": [
        {
         "mode": "lines",
         "name": "prediction",
         "type": "scatter",
         "x": [
          "2022-05-13T00:00:00",
          "2022-05-16T00:00:00",
          "2022-05-17T00:00:00",
          "2022-05-18T00:00:00",
          "2022-05-19T00:00:00",
          "2022-05-20T00:00:00",
          "2022-05-23T00:00:00",
          "2022-05-24T00:00:00",
          "2022-05-25T00:00:00",
          "2022-05-26T00:00:00",
          "2022-05-27T00:00:00",
          "2022-05-30T00:00:00",
          "2022-05-31T00:00:00",
          "2022-06-01T00:00:00",
          "2022-06-02T00:00:00",
          "2022-06-06T00:00:00",
          "2022-06-07T00:00:00",
          "2022-06-08T00:00:00",
          "2022-06-09T00:00:00",
          "2022-06-10T00:00:00",
          "2022-06-13T00:00:00",
          "2022-06-14T00:00:00",
          "2022-06-15T00:00:00",
          "2022-06-16T00:00:00",
          "2022-06-17T00:00:00",
          "2022-06-20T00:00:00",
          "2022-06-21T00:00:00",
          "2022-06-22T00:00:00",
          "2022-06-23T00:00:00",
          "2022-06-24T00:00:00",
          "2022-06-27T00:00:00",
          "2022-06-28T00:00:00",
          "2022-06-29T00:00:00",
          "2022-06-30T00:00:00",
          "2022-07-01T00:00:00",
          "2022-07-04T00:00:00",
          "2022-07-05T00:00:00",
          "2022-07-06T00:00:00",
          "2022-07-07T00:00:00",
          "2022-07-08T00:00:00",
          "2022-07-11T00:00:00",
          "2022-07-12T00:00:00",
          "2022-07-13T00:00:00",
          "2022-07-14T00:00:00",
          "2022-07-15T00:00:00",
          "2022-07-18T00:00:00",
          "2022-07-19T00:00:00",
          "2022-07-20T00:00:00",
          "2022-07-21T00:00:00",
          "2022-07-22T00:00:00",
          "2022-07-25T00:00:00",
          "2022-07-26T00:00:00",
          "2022-07-27T00:00:00",
          "2022-07-28T00:00:00",
          "2022-07-29T00:00:00",
          "2022-08-01T00:00:00",
          "2022-08-02T00:00:00"
         ],
         "y": [
          30.374063657605376,
          30.75775638410393,
          30.936732304965865,
          31.52056530719902,
          31.418701700104286,
          31.67343598167907,
          32.65270700891523,
          34.08147132518865,
          34.08147132518865,
          34.08147132518865,
          34.08147132518865,
          34.08147132518865,
          34.08147132518865,
          34.08147132518865,
          33.22595284757533,
          33.22595284757533,
          32.64499013528723,
          31.683010368737655,
          31.511432208312115,
          30.749164294155843,
          28.729497206075596,
          28.160803603686027,
          30.08577565502407,
          30.936732304965865,
          30.936732304965865,
          30.766889482990837,
          30.820633310891317,
          30.820633310891317,
          30.766889482990837,
          30.820633310891317,
          30.820633310891317,
          30.75775638410393,
          30.820633310891317,
          31.16394228612641,
          30.75775638410393,
          31.511432208312115,
          31.511973217250933,
          30.749164294155843,
          31.612861887258443,
          32.38068146665386,
          32.97476286004378,
          32.26751737506899,
          32.65270700891523,
          34.08147132518865,
          34.08147132518865,
          34.08147132518865,
          33.22595284757533,
          34.08147132518865,
          34.08147132518865,
          34.08147132518865,
          34.08147132518865,
          33.22595284757533,
          32.64499013528723,
          31.075091063575197,
          30.75775638410393,
          31.11019845822593,
          31.16394228612641
         ]
        },
        {
         "mode": "lines",
         "name": "true price",
         "type": "scatter",
         "x": [
          "2022-05-13T00:00:00",
          "2022-05-16T00:00:00",
          "2022-05-17T00:00:00",
          "2022-05-18T00:00:00",
          "2022-05-19T00:00:00",
          "2022-05-20T00:00:00",
          "2022-05-23T00:00:00",
          "2022-05-24T00:00:00",
          "2022-05-25T00:00:00",
          "2022-05-26T00:00:00",
          "2022-05-27T00:00:00",
          "2022-05-30T00:00:00",
          "2022-05-31T00:00:00",
          "2022-06-01T00:00:00",
          "2022-06-02T00:00:00",
          "2022-06-06T00:00:00",
          "2022-06-07T00:00:00",
          "2022-06-08T00:00:00",
          "2022-06-09T00:00:00",
          "2022-06-10T00:00:00",
          "2022-06-13T00:00:00",
          "2022-06-14T00:00:00",
          "2022-06-15T00:00:00",
          "2022-06-16T00:00:00",
          "2022-06-17T00:00:00",
          "2022-06-20T00:00:00",
          "2022-06-21T00:00:00",
          "2022-06-22T00:00:00",
          "2022-06-23T00:00:00",
          "2022-06-24T00:00:00",
          "2022-06-27T00:00:00",
          "2022-06-28T00:00:00",
          "2022-06-29T00:00:00",
          "2022-06-30T00:00:00",
          "2022-07-01T00:00:00",
          "2022-07-04T00:00:00",
          "2022-07-05T00:00:00",
          "2022-07-06T00:00:00",
          "2022-07-07T00:00:00",
          "2022-07-08T00:00:00",
          "2022-07-11T00:00:00",
          "2022-07-12T00:00:00",
          "2022-07-13T00:00:00",
          "2022-07-14T00:00:00",
          "2022-07-15T00:00:00",
          "2022-07-18T00:00:00",
          "2022-07-19T00:00:00",
          "2022-07-20T00:00:00",
          "2022-07-21T00:00:00",
          "2022-07-22T00:00:00",
          "2022-07-25T00:00:00",
          "2022-07-26T00:00:00",
          "2022-07-27T00:00:00",
          "2022-07-28T00:00:00",
          "2022-07-29T00:00:00",
          "2022-08-01T00:00:00",
          "2022-08-02T00:00:00"
         ],
         "y": [
          30.10926818847656,
          31.727516174316406,
          31.335214614868164,
          32.90442657470703,
          32.2178955078125,
          32.266937255859375,
          33.54191970825195,
          33.443843841552734,
          33.54191970825195,
          34.8169059753418,
          34.228450775146484,
          33.443843841552734,
          33.19865417480469,
          33.492881774902344,
          32.2178955078125,
          32.02174758911133,
          31.727516174316406,
          31.48232650756836,
          30.844837188720703,
          29.32466125488281,
          28.14775276184082,
          30.94291114807129,
          31.139062881469727,
          29.766002655029297,
          29.71696281433105,
          30.599647521972656,
          30.599647521972656,
          30.9919490814209,
          31.040987014770508,
          29.177547454833984,
          30.452531814575195,
          31.6784782409668,
          30.9919490814209,
          31.77655792236328,
          31.48232650756836,
          32.16885757446289,
          31.040987014770508,
          32.36500930786133,
          32.266937255859375,
          31.727516174316406,
          32.51212692260742,
          33.492881774902344,
          33.34576797485352,
          33.59095764160156,
          33.492881774902344,
          33.296730041503906,
          33.14961624145508,
          33.63999557495117,
          32.95346450805664,
          33.24769592285156,
          32.315975189208984,
          30.94291114807129,
          30.15830612182617,
          30.549999237060547,
          31.700000762939453,
          31.649999618530277,
          31.600000381469727
         ]
        }
       ],
       "layout": {
        "template": {
         "data": {
          "bar": [
           {
            "error_x": {
             "color": "#2a3f5f"
            },
            "error_y": {
             "color": "#2a3f5f"
            },
            "marker": {
             "line": {
              "color": "#E5ECF6",
              "width": 0.5
             },
             "pattern": {
              "fillmode": "overlay",
              "size": 10,
              "solidity": 0.2
             }
            },
            "type": "bar"
           }
          ],
          "barpolar": [
           {
            "marker": {
             "line": {
              "color": "#E5ECF6",
              "width": 0.5
             },
             "pattern": {
              "fillmode": "overlay",
              "size": 10,
              "solidity": 0.2
             }
            },
            "type": "barpolar"
           }
          ],
          "carpet": [
           {
            "aaxis": {
             "endlinecolor": "#2a3f5f",
             "gridcolor": "white",
             "linecolor": "white",
             "minorgridcolor": "white",
             "startlinecolor": "#2a3f5f"
            },
            "baxis": {
             "endlinecolor": "#2a3f5f",
             "gridcolor": "white",
             "linecolor": "white",
             "minorgridcolor": "white",
             "startlinecolor": "#2a3f5f"
            },
            "type": "carpet"
           }
          ],
          "choropleth": [
           {
            "colorbar": {
             "outlinewidth": 0,
             "ticks": ""
            },
            "type": "choropleth"
           }
          ],
          "contour": [
           {
            "colorbar": {
             "outlinewidth": 0,
             "ticks": ""
            },
            "colorscale": [
             [
              0,
              "#0d0887"
             ],
             [
              0.1111111111111111,
              "#46039f"
             ],
             [
              0.2222222222222222,
              "#7201a8"
             ],
             [
              0.3333333333333333,
              "#9c179e"
             ],
             [
              0.4444444444444444,
              "#bd3786"
             ],
             [
              0.5555555555555556,
              "#d8576b"
             ],
             [
              0.6666666666666666,
              "#ed7953"
             ],
             [
              0.7777777777777778,
              "#fb9f3a"
             ],
             [
              0.8888888888888888,
              "#fdca26"
             ],
             [
              1,
              "#f0f921"
             ]
            ],
            "type": "contour"
           }
          ],
          "contourcarpet": [
           {
            "colorbar": {
             "outlinewidth": 0,
             "ticks": ""
            },
            "type": "contourcarpet"
           }
          ],
          "heatmap": [
           {
            "colorbar": {
             "outlinewidth": 0,
             "ticks": ""
            },
            "colorscale": [
             [
              0,
              "#0d0887"
             ],
             [
              0.1111111111111111,
              "#46039f"
             ],
             [
              0.2222222222222222,
              "#7201a8"
             ],
             [
              0.3333333333333333,
              "#9c179e"
             ],
             [
              0.4444444444444444,
              "#bd3786"
             ],
             [
              0.5555555555555556,
              "#d8576b"
             ],
             [
              0.6666666666666666,
              "#ed7953"
             ],
             [
              0.7777777777777778,
              "#fb9f3a"
             ],
             [
              0.8888888888888888,
              "#fdca26"
             ],
             [
              1,
              "#f0f921"
             ]
            ],
            "type": "heatmap"
           }
          ],
          "heatmapgl": [
           {
            "colorbar": {
             "outlinewidth": 0,
             "ticks": ""
            },
            "colorscale": [
             [
              0,
              "#0d0887"
             ],
             [
              0.1111111111111111,
              "#46039f"
             ],
             [
              0.2222222222222222,
              "#7201a8"
             ],
             [
              0.3333333333333333,
              "#9c179e"
             ],
             [
              0.4444444444444444,
              "#bd3786"
             ],
             [
              0.5555555555555556,
              "#d8576b"
             ],
             [
              0.6666666666666666,
              "#ed7953"
             ],
             [
              0.7777777777777778,
              "#fb9f3a"
             ],
             [
              0.8888888888888888,
              "#fdca26"
             ],
             [
              1,
              "#f0f921"
             ]
            ],
            "type": "heatmapgl"
           }
          ],
          "histogram": [
           {
            "marker": {
             "pattern": {
              "fillmode": "overlay",
              "size": 10,
              "solidity": 0.2
             }
            },
            "type": "histogram"
           }
          ],
          "histogram2d": [
           {
            "colorbar": {
             "outlinewidth": 0,
             "ticks": ""
            },
            "colorscale": [
             [
              0,
              "#0d0887"
             ],
             [
              0.1111111111111111,
              "#46039f"
             ],
             [
              0.2222222222222222,
              "#7201a8"
             ],
             [
              0.3333333333333333,
              "#9c179e"
             ],
             [
              0.4444444444444444,
              "#bd3786"
             ],
             [
              0.5555555555555556,
              "#d8576b"
             ],
             [
              0.6666666666666666,
              "#ed7953"
             ],
             [
              0.7777777777777778,
              "#fb9f3a"
             ],
             [
              0.8888888888888888,
              "#fdca26"
             ],
             [
              1,
              "#f0f921"
             ]
            ],
            "type": "histogram2d"
           }
          ],
          "histogram2dcontour": [
           {
            "colorbar": {
             "outlinewidth": 0,
             "ticks": ""
            },
            "colorscale": [
             [
              0,
              "#0d0887"
             ],
             [
              0.1111111111111111,
              "#46039f"
             ],
             [
              0.2222222222222222,
              "#7201a8"
             ],
             [
              0.3333333333333333,
              "#9c179e"
             ],
             [
              0.4444444444444444,
              "#bd3786"
             ],
             [
              0.5555555555555556,
              "#d8576b"
             ],
             [
              0.6666666666666666,
              "#ed7953"
             ],
             [
              0.7777777777777778,
              "#fb9f3a"
             ],
             [
              0.8888888888888888,
              "#fdca26"
             ],
             [
              1,
              "#f0f921"
             ]
            ],
            "type": "histogram2dcontour"
           }
          ],
          "mesh3d": [
           {
            "colorbar": {
             "outlinewidth": 0,
             "ticks": ""
            },
            "type": "mesh3d"
           }
          ],
          "parcoords": [
           {
            "line": {
             "colorbar": {
              "outlinewidth": 0,
              "ticks": ""
             }
            },
            "type": "parcoords"
           }
          ],
          "pie": [
           {
            "automargin": true,
            "type": "pie"
           }
          ],
          "scatter": [
           {
            "fillpattern": {
             "fillmode": "overlay",
             "size": 10,
             "solidity": 0.2
            },
            "type": "scatter"
           }
          ],
          "scatter3d": [
           {
            "line": {
             "colorbar": {
              "outlinewidth": 0,
              "ticks": ""
             }
            },
            "marker": {
             "colorbar": {
              "outlinewidth": 0,
              "ticks": ""
             }
            },
            "type": "scatter3d"
           }
          ],
          "scattercarpet": [
           {
            "marker": {
             "colorbar": {
              "outlinewidth": 0,
              "ticks": ""
             }
            },
            "type": "scattercarpet"
           }
          ],
          "scattergeo": [
           {
            "marker": {
             "colorbar": {
              "outlinewidth": 0,
              "ticks": ""
             }
            },
            "type": "scattergeo"
           }
          ],
          "scattergl": [
           {
            "marker": {
             "colorbar": {
              "outlinewidth": 0,
              "ticks": ""
             }
            },
            "type": "scattergl"
           }
          ],
          "scattermapbox": [
           {
            "marker": {
             "colorbar": {
              "outlinewidth": 0,
              "ticks": ""
             }
            },
            "type": "scattermapbox"
           }
          ],
          "scatterpolar": [
           {
            "marker": {
             "colorbar": {
              "outlinewidth": 0,
              "ticks": ""
             }
            },
            "type": "scatterpolar"
           }
          ],
          "scatterpolargl": [
           {
            "marker": {
             "colorbar": {
              "outlinewidth": 0,
              "ticks": ""
             }
            },
            "type": "scatterpolargl"
           }
          ],
          "scatterternary": [
           {
            "marker": {
             "colorbar": {
              "outlinewidth": 0,
              "ticks": ""
             }
            },
            "type": "scatterternary"
           }
          ],
          "surface": [
           {
            "colorbar": {
             "outlinewidth": 0,
             "ticks": ""
            },
            "colorscale": [
             [
              0,
              "#0d0887"
             ],
             [
              0.1111111111111111,
              "#46039f"
             ],
             [
              0.2222222222222222,
              "#7201a8"
             ],
             [
              0.3333333333333333,
              "#9c179e"
             ],
             [
              0.4444444444444444,
              "#bd3786"
             ],
             [
              0.5555555555555556,
              "#d8576b"
             ],
             [
              0.6666666666666666,
              "#ed7953"
             ],
             [
              0.7777777777777778,
              "#fb9f3a"
             ],
             [
              0.8888888888888888,
              "#fdca26"
             ],
             [
              1,
              "#f0f921"
             ]
            ],
            "type": "surface"
           }
          ],
          "table": [
           {
            "cells": {
             "fill": {
              "color": "#EBF0F8"
             },
             "line": {
              "color": "white"
             }
            },
            "header": {
             "fill": {
              "color": "#C8D4E3"
             },
             "line": {
              "color": "white"
             }
            },
            "type": "table"
           }
          ]
         },
         "layout": {
          "annotationdefaults": {
           "arrowcolor": "#2a3f5f",
           "arrowhead": 0,
           "arrowwidth": 1
          },
          "autotypenumbers": "strict",
          "coloraxis": {
           "colorbar": {
            "outlinewidth": 0,
            "ticks": ""
           }
          },
          "colorscale": {
           "diverging": [
            [
             0,
             "#8e0152"
            ],
            [
             0.1,
             "#c51b7d"
            ],
            [
             0.2,
             "#de77ae"
            ],
            [
             0.3,
             "#f1b6da"
            ],
            [
             0.4,
             "#fde0ef"
            ],
            [
             0.5,
             "#f7f7f7"
            ],
            [
             0.6,
             "#e6f5d0"
            ],
            [
             0.7,
             "#b8e186"
            ],
            [
             0.8,
             "#7fbc41"
            ],
            [
             0.9,
             "#4d9221"
            ],
            [
             1,
             "#276419"
            ]
           ],
           "sequential": [
            [
             0,
             "#0d0887"
            ],
            [
             0.1111111111111111,
             "#46039f"
            ],
            [
             0.2222222222222222,
             "#7201a8"
            ],
            [
             0.3333333333333333,
             "#9c179e"
            ],
            [
             0.4444444444444444,
             "#bd3786"
            ],
            [
             0.5555555555555556,
             "#d8576b"
            ],
            [
             0.6666666666666666,
             "#ed7953"
            ],
            [
             0.7777777777777778,
             "#fb9f3a"
            ],
            [
             0.8888888888888888,
             "#fdca26"
            ],
            [
             1,
             "#f0f921"
            ]
           ],
           "sequentialminus": [
            [
             0,
             "#0d0887"
            ],
            [
             0.1111111111111111,
             "#46039f"
            ],
            [
             0.2222222222222222,
             "#7201a8"
            ],
            [
             0.3333333333333333,
             "#9c179e"
            ],
            [
             0.4444444444444444,
             "#bd3786"
            ],
            [
             0.5555555555555556,
             "#d8576b"
            ],
            [
             0.6666666666666666,
             "#ed7953"
            ],
            [
             0.7777777777777778,
             "#fb9f3a"
            ],
            [
             0.8888888888888888,
             "#fdca26"
            ],
            [
             1,
             "#f0f921"
            ]
           ]
          },
          "colorway": [
           "#636efa",
           "#EF553B",
           "#00cc96",
           "#ab63fa",
           "#FFA15A",
           "#19d3f3",
           "#FF6692",
           "#B6E880",
           "#FF97FF",
           "#FECB52"
          ],
          "font": {
           "color": "#2a3f5f"
          },
          "geo": {
           "bgcolor": "white",
           "lakecolor": "white",
           "landcolor": "#E5ECF6",
           "showlakes": true,
           "showland": true,
           "subunitcolor": "white"
          },
          "hoverlabel": {
           "align": "left"
          },
          "hovermode": "closest",
          "mapbox": {
           "style": "light"
          },
          "paper_bgcolor": "white",
          "plot_bgcolor": "#E5ECF6",
          "polar": {
           "angularaxis": {
            "gridcolor": "white",
            "linecolor": "white",
            "ticks": ""
           },
           "bgcolor": "#E5ECF6",
           "radialaxis": {
            "gridcolor": "white",
            "linecolor": "white",
            "ticks": ""
           }
          },
          "scene": {
           "xaxis": {
            "backgroundcolor": "#E5ECF6",
            "gridcolor": "white",
            "gridwidth": 2,
            "linecolor": "white",
            "showbackground": true,
            "ticks": "",
            "zerolinecolor": "white"
           },
           "yaxis": {
            "backgroundcolor": "#E5ECF6",
            "gridcolor": "white",
            "gridwidth": 2,
            "linecolor": "white",
            "showbackground": true,
            "ticks": "",
            "zerolinecolor": "white"
           },
           "zaxis": {
            "backgroundcolor": "#E5ECF6",
            "gridcolor": "white",
            "gridwidth": 2,
            "linecolor": "white",
            "showbackground": true,
            "ticks": "",
            "zerolinecolor": "white"
           }
          },
          "shapedefaults": {
           "line": {
            "color": "#2a3f5f"
           }
          },
          "ternary": {
           "aaxis": {
            "gridcolor": "white",
            "linecolor": "white",
            "ticks": ""
           },
           "baxis": {
            "gridcolor": "white",
            "linecolor": "white",
            "ticks": ""
           },
           "bgcolor": "#E5ECF6",
           "caxis": {
            "gridcolor": "white",
            "linecolor": "white",
            "ticks": ""
           }
          },
          "title": {
           "x": 0.05
          },
          "xaxis": {
           "automargin": true,
           "gridcolor": "white",
           "linecolor": "white",
           "ticks": "",
           "title": {
            "standoff": 15
           },
           "zerolinecolor": "white",
           "zerolinewidth": 2
          },
          "yaxis": {
           "automargin": true,
           "gridcolor": "white",
           "linecolor": "white",
           "ticks": "",
           "title": {
            "standoff": 15
           },
           "zerolinecolor": "white",
           "zerolinewidth": 2
          }
         }
        }
       }
      }
     },
     "metadata": {},
     "output_type": "display_data"
    }
   ],
   "source": [
    "# gragh of y1 prediction \n",
    "# fig = px.line(val1, x = \"Date\", y = \"gbr_pred_y1\", title = \"model results\")\n",
    "fig = go.Figure()\n",
    "fig.add_trace(go.Scatter(x = val1[\"Date\"], y = val1[\"gbr_pred_y1\"], mode = \"lines\", name = \"prediction\"))\n",
    "fig.add_trace(go.Scatter(x = val1[\"Date\"], y = val1[\"y1\"], mode = \"lines\", name = \"true price\"))\n",
    "fig.show()"
   ]
  },
  {
   "cell_type": "code",
   "execution_count": 14,
   "metadata": {},
   "outputs": [],
   "source": [
    "model2_results = val1.drop(['x_1','x_2','x_3','x_4'], axis=1)"
   ]
  },
  {
   "cell_type": "code",
   "execution_count": 15,
   "metadata": {},
   "outputs": [
    {
     "name": "stdout",
     "output_type": "stream",
     "text": [
      "mape of y2: 2.24\n"
     ]
    },
    {
     "name": "stderr",
     "output_type": "stream",
     "text": [
      "c:\\Anaconda3\\envs\\public\\lib\\site-packages\\lightgbm\\engine.py:118: UserWarning:\n",
      "\n",
      "Found `n_estimators` in params. Will use it instead of argument\n",
      "\n",
      "c:\\Anaconda3\\envs\\public\\lib\\site-packages\\ipykernel_launcher.py:19: SettingWithCopyWarning:\n",
      "\n",
      "\n",
      "A value is trying to be set on a copy of a slice from a DataFrame.\n",
      "Try using .loc[row_indexer,col_indexer] = value instead\n",
      "\n",
      "See the caveats in the documentation: https://pandas.pydata.org/pandas-docs/stable/user_guide/indexing.html#returning-a-view-versus-a-copy\n",
      "\n"
     ]
    }
   ],
   "source": [
    "# df2618_1 = window_func(5, 'High', 'y2', df2618)\n",
    "\n",
    "tr, val = df2618_1[:-int(len(df2618_1)*0.10)], df2618_1[-int(len(df2618_1)*0.10):]\n",
    "val1 = ma5_model(tr, features, 'y2', val,'gbr_pred_y2')\n",
    "print(f'mape of y2: {mape(val[\"y2\"], val[\"gbr_pred_y2\"])}')"
   ]
  },
  {
   "cell_type": "code",
   "execution_count": 16,
   "metadata": {},
   "outputs": [],
   "source": [
    "model2_results = model2_results.merge(val1[['Date', 'gbr_pred_y2']], on='Date', how='left')"
   ]
  },
  {
   "cell_type": "code",
   "execution_count": 17,
   "metadata": {},
   "outputs": [
    {
     "name": "stdout",
     "output_type": "stream",
     "text": [
      "mape of y3: 2.08\n"
     ]
    },
    {
     "name": "stderr",
     "output_type": "stream",
     "text": [
      "c:\\Anaconda3\\envs\\public\\lib\\site-packages\\lightgbm\\engine.py:118: UserWarning:\n",
      "\n",
      "Found `n_estimators` in params. Will use it instead of argument\n",
      "\n",
      "c:\\Anaconda3\\envs\\public\\lib\\site-packages\\ipykernel_launcher.py:19: SettingWithCopyWarning:\n",
      "\n",
      "\n",
      "A value is trying to be set on a copy of a slice from a DataFrame.\n",
      "Try using .loc[row_indexer,col_indexer] = value instead\n",
      "\n",
      "See the caveats in the documentation: https://pandas.pydata.org/pandas-docs/stable/user_guide/indexing.html#returning-a-view-versus-a-copy\n",
      "\n"
     ]
    }
   ],
   "source": [
    "# df2618_1 = window_func(5, 'Low', 'y3', df2618)\n",
    "\n",
    "tr, val = df2618_1[:-int(len(df2618_1)*0.10)], df2618_1[-int(len(df2618_1)*0.10):]\n",
    "val1 = ma5_model(tr, features, 'y3', val,'gbr_pred_y3')\n",
    "print(f'mape of y3: {mape(val[\"y3\"], val[\"gbr_pred_y3\"])}')"
   ]
  },
  {
   "cell_type": "code",
   "execution_count": 18,
   "metadata": {},
   "outputs": [],
   "source": [
    "model2_results = model2_results.merge(val1[['Date', 'gbr_pred_y3']], on='Date', how='left')"
   ]
  },
  {
   "cell_type": "markdown",
   "metadata": {},
   "source": [
    "# model: using a seq of past obs. with feature engineering"
   ]
  },
  {
   "cell_type": "markdown",
   "metadata": {},
   "source": [
    "## feature engineering"
   ]
  },
  {
   "cell_type": "code",
   "execution_count": 19,
   "metadata": {},
   "outputs": [],
   "source": [
    "df2618_2 = df2618.copy()\n",
    "\n",
    "def feature_engineering(df):\n",
    "    # create moving avg\n",
    "    p = df['Open'].rolling(window = 2).mean()\n",
    "    df['ma1'] = p.diff()\n",
    "    df['ma2'] = df['ma1'].diff()\n",
    "    df['ma3'] = df['ma2'].diff()\n",
    "\n",
    "    # percent change\n",
    "    df['high_per'] = (df['High'] - df['Open'])/df['Open']\n",
    "    df['amplitude'] = (df['High'] - df['Low'])/df['Open']\n",
    "\n",
    "    # volumn diff percentage for the current day\n",
    "    df['vol_ma'] = df['Volume'].rolling(window = 5).mean()\n",
    "\n",
    "    # open diff\n",
    "    df['open_diff'] = df['Open'].diff()\n",
    "\n",
    "    # if red K\n",
    "    df['red_k'] = np.where(df['Close'] > df['Open'], 1, 0)\n",
    "\n",
    "    # ma5 line we use often\n",
    "    df['ma5'] = df['Close'].rolling(window = 5).mean()\n",
    "\n",
    "    return df "
   ]
  },
  {
   "cell_type": "code",
   "execution_count": 20,
   "metadata": {},
   "outputs": [],
   "source": [
    "df2618_2 = feature_engineering(df2618_2)\n",
    "df2618_2['y1'] = df2618_2['Close'].shift(-1)\n",
    "df2618_2['y2'] = df2618_2['High'].shift(-1)\n",
    "df2618_2['y3'] = df2618_2['Low'].shift(-1)\n",
    "df2618_2 = df2618_2.dropna(axis = 0)\n",
    "\n",
    "tr, val = df2618_2[:-int(len(df2618_2)*0.10)], df2618_2[-int(len(df2618_2)*0.10):]"
   ]
  },
  {
   "cell_type": "markdown",
   "metadata": {},
   "source": [
    "## training"
   ]
  },
  {
   "cell_type": "code",
   "execution_count": 21,
   "metadata": {},
   "outputs": [],
   "source": [
    "def lotsoffeature_model(train, train_x, train_y, val, val_output):\n",
    "    params = {\n",
    "        'boosting': 'gbdt',\n",
    "        'objective': 'regression',\n",
    "        \"seed\": 5271,\n",
    "        \"n_estimators\": 300,\n",
    "        'num_leaves': 10,\n",
    "        'learning_rate': 0.013,\n",
    "        'verbose': -1\n",
    "    }\n",
    "    \n",
    "    trn_data = lgb.Dataset(train[train_x], label = train[train_y])\n",
    "    ts_data = lgb.Dataset(val[train_x], label = val[train_y])\n",
    "\n",
    "    model = lgb.train(params,\n",
    "                     train_set=trn_data)\n",
    "    \n",
    "    model_pred = model.predict(val[train_x+[train_y]])\n",
    "    val[val_output] = model_pred\n",
    "\n",
    "    return val"
   ]
  },
  {
   "cell_type": "code",
   "execution_count": 22,
   "metadata": {},
   "outputs": [
    {
     "name": "stdout",
     "output_type": "stream",
     "text": [
      "mape of y1: 2.19\n"
     ]
    },
    {
     "name": "stderr",
     "output_type": "stream",
     "text": [
      "c:\\Anaconda3\\envs\\public\\lib\\site-packages\\lightgbm\\engine.py:118: UserWarning:\n",
      "\n",
      "Found `n_estimators` in params. Will use it instead of argument\n",
      "\n",
      "c:\\Anaconda3\\envs\\public\\lib\\site-packages\\ipykernel_launcher.py:19: SettingWithCopyWarning:\n",
      "\n",
      "\n",
      "A value is trying to be set on a copy of a slice from a DataFrame.\n",
      "Try using .loc[row_indexer,col_indexer] = value instead\n",
      "\n",
      "See the caveats in the documentation: https://pandas.pydata.org/pandas-docs/stable/user_guide/indexing.html#returning-a-view-versus-a-copy\n",
      "\n"
     ]
    }
   ],
   "source": [
    "features = ['Open', 'High', 'Low', 'Close', 'ma1', 'ma2', 'ma3', 'high_per', 'amplitude', 'vol_ma', 'open_diff', 'red_k', 'ma5']\n",
    "val1 = lotsoffeature_model(tr, features, 'y1', val,'gbr_pred_y1')\n",
    "print(f'mape of y1: {mape(val[\"y1\"], val[\"gbr_pred_y1\"])}')"
   ]
  },
  {
   "cell_type": "code",
   "execution_count": 23,
   "metadata": {},
   "outputs": [
    {
     "data": {
      "application/vnd.plotly.v1+json": {
       "config": {
        "plotlyServerURL": "https://plot.ly"
       },
       "data": [
        {
         "mode": "lines",
         "name": "prediction",
         "type": "scatter",
         "x": [
          "2022-06-01T00:00:00",
          "2022-06-02T00:00:00",
          "2022-06-06T00:00:00",
          "2022-06-07T00:00:00",
          "2022-06-08T00:00:00",
          "2022-06-09T00:00:00",
          "2022-06-10T00:00:00",
          "2022-06-13T00:00:00",
          "2022-06-14T00:00:00",
          "2022-06-15T00:00:00",
          "2022-06-16T00:00:00",
          "2022-06-17T00:00:00",
          "2022-06-20T00:00:00",
          "2022-06-21T00:00:00",
          "2022-06-22T00:00:00",
          "2022-06-23T00:00:00",
          "2022-06-24T00:00:00",
          "2022-06-27T00:00:00",
          "2022-06-28T00:00:00",
          "2022-06-29T00:00:00",
          "2022-06-30T00:00:00",
          "2022-07-01T00:00:00",
          "2022-07-04T00:00:00",
          "2022-07-05T00:00:00",
          "2022-07-06T00:00:00",
          "2022-07-07T00:00:00",
          "2022-07-08T00:00:00",
          "2022-07-11T00:00:00",
          "2022-07-12T00:00:00",
          "2022-07-13T00:00:00",
          "2022-07-14T00:00:00",
          "2022-07-15T00:00:00",
          "2022-07-18T00:00:00",
          "2022-07-19T00:00:00",
          "2022-07-20T00:00:00",
          "2022-07-21T00:00:00",
          "2022-07-22T00:00:00",
          "2022-07-25T00:00:00",
          "2022-07-26T00:00:00",
          "2022-07-27T00:00:00",
          "2022-07-28T00:00:00",
          "2022-07-29T00:00:00",
          "2022-08-01T00:00:00",
          "2022-08-02T00:00:00",
          "2022-08-03T00:00:00",
          "2022-08-04T00:00:00",
          "2022-08-05T00:00:00",
          "2022-08-08T00:00:00",
          "2022-08-09T00:00:00",
          "2022-08-10T00:00:00",
          "2022-08-11T00:00:00",
          "2022-08-12T00:00:00",
          "2022-08-15T00:00:00",
          "2022-08-16T00:00:00",
          "2022-08-17T00:00:00",
          "2022-08-18T00:00:00",
          "2022-08-19T00:00:00",
          "2022-08-22T00:00:00"
         ],
         "y": [
          33.633171602137764,
          34.17731769223833,
          34.32504301098347,
          33.71229621668845,
          33.5081121485471,
          32.9156303550709,
          31.883907431204097,
          32.05742528904696,
          31.054640552498118,
          31.46263546059988,
          31.696711515668827,
          28.231126344072962,
          28.179479020579414,
          30.519196509250893,
          31.499281934152023,
          31.153855514028496,
          31.063208838370972,
          30.929818574600485,
          31.070816535770653,
          31.00402073122896,
          31.143940144621762,
          29.811194270911333,
          31.165626200356286,
          30.932550638147642,
          31.335155204390126,
          31.091503348308418,
          31.758424466923397,
          31.567365181767144,
          30.925969791069203,
          32.04905525130645,
          32.272774990843835,
          31.368829813478577,
          32.144503101541616,
          32.49614076775028,
          33.6040091237818,
          33.65375274455445,
          33.48668678267538,
          32.933380821309704,
          33.44145265934328,
          33.302147341061065,
          33.38495775270382,
          33.470560190980684,
          32.83461113390968,
          31.505185735997912,
          31.058091425723795,
          30.56004530302682,
          31.119263557467345,
          31.233392048860033,
          31.05272338016817,
          30.969160127310357,
          31.66562800111903,
          31.60465451085366,
          30.893506764754033,
          31.306308172597483,
          31.353055065186176,
          32.13617180275664,
          31.230237633099787,
          31.305998095730075
         ]
        },
        {
         "mode": "lines",
         "name": "true price",
         "type": "scatter",
         "x": [
          "2022-06-01T00:00:00",
          "2022-06-02T00:00:00",
          "2022-06-06T00:00:00",
          "2022-06-07T00:00:00",
          "2022-06-08T00:00:00",
          "2022-06-09T00:00:00",
          "2022-06-10T00:00:00",
          "2022-06-13T00:00:00",
          "2022-06-14T00:00:00",
          "2022-06-15T00:00:00",
          "2022-06-16T00:00:00",
          "2022-06-17T00:00:00",
          "2022-06-20T00:00:00",
          "2022-06-21T00:00:00",
          "2022-06-22T00:00:00",
          "2022-06-23T00:00:00",
          "2022-06-24T00:00:00",
          "2022-06-27T00:00:00",
          "2022-06-28T00:00:00",
          "2022-06-29T00:00:00",
          "2022-06-30T00:00:00",
          "2022-07-01T00:00:00",
          "2022-07-04T00:00:00",
          "2022-07-05T00:00:00",
          "2022-07-06T00:00:00",
          "2022-07-07T00:00:00",
          "2022-07-08T00:00:00",
          "2022-07-11T00:00:00",
          "2022-07-12T00:00:00",
          "2022-07-13T00:00:00",
          "2022-07-14T00:00:00",
          "2022-07-15T00:00:00",
          "2022-07-18T00:00:00",
          "2022-07-19T00:00:00",
          "2022-07-20T00:00:00",
          "2022-07-21T00:00:00",
          "2022-07-22T00:00:00",
          "2022-07-25T00:00:00",
          "2022-07-26T00:00:00",
          "2022-07-27T00:00:00",
          "2022-07-28T00:00:00",
          "2022-07-29T00:00:00",
          "2022-08-01T00:00:00",
          "2022-08-02T00:00:00",
          "2022-08-03T00:00:00",
          "2022-08-04T00:00:00",
          "2022-08-05T00:00:00",
          "2022-08-08T00:00:00",
          "2022-08-09T00:00:00",
          "2022-08-10T00:00:00",
          "2022-08-11T00:00:00",
          "2022-08-12T00:00:00",
          "2022-08-15T00:00:00",
          "2022-08-16T00:00:00",
          "2022-08-17T00:00:00",
          "2022-08-18T00:00:00",
          "2022-08-19T00:00:00",
          "2022-08-22T00:00:00"
         ],
         "y": [
          34.8169059753418,
          34.228450775146484,
          33.443843841552734,
          33.19865417480469,
          33.492881774902344,
          32.2178955078125,
          32.02174758911133,
          31.727516174316406,
          31.48232650756836,
          30.844837188720703,
          29.32466125488281,
          28.14775276184082,
          30.94291114807129,
          31.139062881469727,
          29.766002655029297,
          29.71696281433105,
          30.599647521972656,
          30.599647521972656,
          30.9919490814209,
          31.040987014770508,
          29.177547454833984,
          30.452531814575195,
          31.6784782409668,
          30.9919490814209,
          31.77655792236328,
          31.48232650756836,
          32.16885757446289,
          31.040987014770508,
          32.36500930786133,
          32.266937255859375,
          31.727516174316406,
          32.51212692260742,
          33.492881774902344,
          33.34576797485352,
          33.59095764160156,
          33.492881774902344,
          33.296730041503906,
          33.14961624145508,
          33.63999557495117,
          32.95346450805664,
          33.24769592285156,
          32.315975189208984,
          30.94291114807129,
          30.15830612182617,
          30.549999237060547,
          31.700000762939453,
          31.649999618530277,
          31.600000381469727,
          31.649999618530277,
          31.950000762939453,
          31.75,
          31.600000381469727,
          32.099998474121094,
          32.20000076293945,
          32.29999923706055,
          31.700000762939453,
          32.04999923706055,
          31.799999237060547
         ]
        }
       ],
       "layout": {
        "template": {
         "data": {
          "bar": [
           {
            "error_x": {
             "color": "#2a3f5f"
            },
            "error_y": {
             "color": "#2a3f5f"
            },
            "marker": {
             "line": {
              "color": "#E5ECF6",
              "width": 0.5
             },
             "pattern": {
              "fillmode": "overlay",
              "size": 10,
              "solidity": 0.2
             }
            },
            "type": "bar"
           }
          ],
          "barpolar": [
           {
            "marker": {
             "line": {
              "color": "#E5ECF6",
              "width": 0.5
             },
             "pattern": {
              "fillmode": "overlay",
              "size": 10,
              "solidity": 0.2
             }
            },
            "type": "barpolar"
           }
          ],
          "carpet": [
           {
            "aaxis": {
             "endlinecolor": "#2a3f5f",
             "gridcolor": "white",
             "linecolor": "white",
             "minorgridcolor": "white",
             "startlinecolor": "#2a3f5f"
            },
            "baxis": {
             "endlinecolor": "#2a3f5f",
             "gridcolor": "white",
             "linecolor": "white",
             "minorgridcolor": "white",
             "startlinecolor": "#2a3f5f"
            },
            "type": "carpet"
           }
          ],
          "choropleth": [
           {
            "colorbar": {
             "outlinewidth": 0,
             "ticks": ""
            },
            "type": "choropleth"
           }
          ],
          "contour": [
           {
            "colorbar": {
             "outlinewidth": 0,
             "ticks": ""
            },
            "colorscale": [
             [
              0,
              "#0d0887"
             ],
             [
              0.1111111111111111,
              "#46039f"
             ],
             [
              0.2222222222222222,
              "#7201a8"
             ],
             [
              0.3333333333333333,
              "#9c179e"
             ],
             [
              0.4444444444444444,
              "#bd3786"
             ],
             [
              0.5555555555555556,
              "#d8576b"
             ],
             [
              0.6666666666666666,
              "#ed7953"
             ],
             [
              0.7777777777777778,
              "#fb9f3a"
             ],
             [
              0.8888888888888888,
              "#fdca26"
             ],
             [
              1,
              "#f0f921"
             ]
            ],
            "type": "contour"
           }
          ],
          "contourcarpet": [
           {
            "colorbar": {
             "outlinewidth": 0,
             "ticks": ""
            },
            "type": "contourcarpet"
           }
          ],
          "heatmap": [
           {
            "colorbar": {
             "outlinewidth": 0,
             "ticks": ""
            },
            "colorscale": [
             [
              0,
              "#0d0887"
             ],
             [
              0.1111111111111111,
              "#46039f"
             ],
             [
              0.2222222222222222,
              "#7201a8"
             ],
             [
              0.3333333333333333,
              "#9c179e"
             ],
             [
              0.4444444444444444,
              "#bd3786"
             ],
             [
              0.5555555555555556,
              "#d8576b"
             ],
             [
              0.6666666666666666,
              "#ed7953"
             ],
             [
              0.7777777777777778,
              "#fb9f3a"
             ],
             [
              0.8888888888888888,
              "#fdca26"
             ],
             [
              1,
              "#f0f921"
             ]
            ],
            "type": "heatmap"
           }
          ],
          "heatmapgl": [
           {
            "colorbar": {
             "outlinewidth": 0,
             "ticks": ""
            },
            "colorscale": [
             [
              0,
              "#0d0887"
             ],
             [
              0.1111111111111111,
              "#46039f"
             ],
             [
              0.2222222222222222,
              "#7201a8"
             ],
             [
              0.3333333333333333,
              "#9c179e"
             ],
             [
              0.4444444444444444,
              "#bd3786"
             ],
             [
              0.5555555555555556,
              "#d8576b"
             ],
             [
              0.6666666666666666,
              "#ed7953"
             ],
             [
              0.7777777777777778,
              "#fb9f3a"
             ],
             [
              0.8888888888888888,
              "#fdca26"
             ],
             [
              1,
              "#f0f921"
             ]
            ],
            "type": "heatmapgl"
           }
          ],
          "histogram": [
           {
            "marker": {
             "pattern": {
              "fillmode": "overlay",
              "size": 10,
              "solidity": 0.2
             }
            },
            "type": "histogram"
           }
          ],
          "histogram2d": [
           {
            "colorbar": {
             "outlinewidth": 0,
             "ticks": ""
            },
            "colorscale": [
             [
              0,
              "#0d0887"
             ],
             [
              0.1111111111111111,
              "#46039f"
             ],
             [
              0.2222222222222222,
              "#7201a8"
             ],
             [
              0.3333333333333333,
              "#9c179e"
             ],
             [
              0.4444444444444444,
              "#bd3786"
             ],
             [
              0.5555555555555556,
              "#d8576b"
             ],
             [
              0.6666666666666666,
              "#ed7953"
             ],
             [
              0.7777777777777778,
              "#fb9f3a"
             ],
             [
              0.8888888888888888,
              "#fdca26"
             ],
             [
              1,
              "#f0f921"
             ]
            ],
            "type": "histogram2d"
           }
          ],
          "histogram2dcontour": [
           {
            "colorbar": {
             "outlinewidth": 0,
             "ticks": ""
            },
            "colorscale": [
             [
              0,
              "#0d0887"
             ],
             [
              0.1111111111111111,
              "#46039f"
             ],
             [
              0.2222222222222222,
              "#7201a8"
             ],
             [
              0.3333333333333333,
              "#9c179e"
             ],
             [
              0.4444444444444444,
              "#bd3786"
             ],
             [
              0.5555555555555556,
              "#d8576b"
             ],
             [
              0.6666666666666666,
              "#ed7953"
             ],
             [
              0.7777777777777778,
              "#fb9f3a"
             ],
             [
              0.8888888888888888,
              "#fdca26"
             ],
             [
              1,
              "#f0f921"
             ]
            ],
            "type": "histogram2dcontour"
           }
          ],
          "mesh3d": [
           {
            "colorbar": {
             "outlinewidth": 0,
             "ticks": ""
            },
            "type": "mesh3d"
           }
          ],
          "parcoords": [
           {
            "line": {
             "colorbar": {
              "outlinewidth": 0,
              "ticks": ""
             }
            },
            "type": "parcoords"
           }
          ],
          "pie": [
           {
            "automargin": true,
            "type": "pie"
           }
          ],
          "scatter": [
           {
            "fillpattern": {
             "fillmode": "overlay",
             "size": 10,
             "solidity": 0.2
            },
            "type": "scatter"
           }
          ],
          "scatter3d": [
           {
            "line": {
             "colorbar": {
              "outlinewidth": 0,
              "ticks": ""
             }
            },
            "marker": {
             "colorbar": {
              "outlinewidth": 0,
              "ticks": ""
             }
            },
            "type": "scatter3d"
           }
          ],
          "scattercarpet": [
           {
            "marker": {
             "colorbar": {
              "outlinewidth": 0,
              "ticks": ""
             }
            },
            "type": "scattercarpet"
           }
          ],
          "scattergeo": [
           {
            "marker": {
             "colorbar": {
              "outlinewidth": 0,
              "ticks": ""
             }
            },
            "type": "scattergeo"
           }
          ],
          "scattergl": [
           {
            "marker": {
             "colorbar": {
              "outlinewidth": 0,
              "ticks": ""
             }
            },
            "type": "scattergl"
           }
          ],
          "scattermapbox": [
           {
            "marker": {
             "colorbar": {
              "outlinewidth": 0,
              "ticks": ""
             }
            },
            "type": "scattermapbox"
           }
          ],
          "scatterpolar": [
           {
            "marker": {
             "colorbar": {
              "outlinewidth": 0,
              "ticks": ""
             }
            },
            "type": "scatterpolar"
           }
          ],
          "scatterpolargl": [
           {
            "marker": {
             "colorbar": {
              "outlinewidth": 0,
              "ticks": ""
             }
            },
            "type": "scatterpolargl"
           }
          ],
          "scatterternary": [
           {
            "marker": {
             "colorbar": {
              "outlinewidth": 0,
              "ticks": ""
             }
            },
            "type": "scatterternary"
           }
          ],
          "surface": [
           {
            "colorbar": {
             "outlinewidth": 0,
             "ticks": ""
            },
            "colorscale": [
             [
              0,
              "#0d0887"
             ],
             [
              0.1111111111111111,
              "#46039f"
             ],
             [
              0.2222222222222222,
              "#7201a8"
             ],
             [
              0.3333333333333333,
              "#9c179e"
             ],
             [
              0.4444444444444444,
              "#bd3786"
             ],
             [
              0.5555555555555556,
              "#d8576b"
             ],
             [
              0.6666666666666666,
              "#ed7953"
             ],
             [
              0.7777777777777778,
              "#fb9f3a"
             ],
             [
              0.8888888888888888,
              "#fdca26"
             ],
             [
              1,
              "#f0f921"
             ]
            ],
            "type": "surface"
           }
          ],
          "table": [
           {
            "cells": {
             "fill": {
              "color": "#EBF0F8"
             },
             "line": {
              "color": "white"
             }
            },
            "header": {
             "fill": {
              "color": "#C8D4E3"
             },
             "line": {
              "color": "white"
             }
            },
            "type": "table"
           }
          ]
         },
         "layout": {
          "annotationdefaults": {
           "arrowcolor": "#2a3f5f",
           "arrowhead": 0,
           "arrowwidth": 1
          },
          "autotypenumbers": "strict",
          "coloraxis": {
           "colorbar": {
            "outlinewidth": 0,
            "ticks": ""
           }
          },
          "colorscale": {
           "diverging": [
            [
             0,
             "#8e0152"
            ],
            [
             0.1,
             "#c51b7d"
            ],
            [
             0.2,
             "#de77ae"
            ],
            [
             0.3,
             "#f1b6da"
            ],
            [
             0.4,
             "#fde0ef"
            ],
            [
             0.5,
             "#f7f7f7"
            ],
            [
             0.6,
             "#e6f5d0"
            ],
            [
             0.7,
             "#b8e186"
            ],
            [
             0.8,
             "#7fbc41"
            ],
            [
             0.9,
             "#4d9221"
            ],
            [
             1,
             "#276419"
            ]
           ],
           "sequential": [
            [
             0,
             "#0d0887"
            ],
            [
             0.1111111111111111,
             "#46039f"
            ],
            [
             0.2222222222222222,
             "#7201a8"
            ],
            [
             0.3333333333333333,
             "#9c179e"
            ],
            [
             0.4444444444444444,
             "#bd3786"
            ],
            [
             0.5555555555555556,
             "#d8576b"
            ],
            [
             0.6666666666666666,
             "#ed7953"
            ],
            [
             0.7777777777777778,
             "#fb9f3a"
            ],
            [
             0.8888888888888888,
             "#fdca26"
            ],
            [
             1,
             "#f0f921"
            ]
           ],
           "sequentialminus": [
            [
             0,
             "#0d0887"
            ],
            [
             0.1111111111111111,
             "#46039f"
            ],
            [
             0.2222222222222222,
             "#7201a8"
            ],
            [
             0.3333333333333333,
             "#9c179e"
            ],
            [
             0.4444444444444444,
             "#bd3786"
            ],
            [
             0.5555555555555556,
             "#d8576b"
            ],
            [
             0.6666666666666666,
             "#ed7953"
            ],
            [
             0.7777777777777778,
             "#fb9f3a"
            ],
            [
             0.8888888888888888,
             "#fdca26"
            ],
            [
             1,
             "#f0f921"
            ]
           ]
          },
          "colorway": [
           "#636efa",
           "#EF553B",
           "#00cc96",
           "#ab63fa",
           "#FFA15A",
           "#19d3f3",
           "#FF6692",
           "#B6E880",
           "#FF97FF",
           "#FECB52"
          ],
          "font": {
           "color": "#2a3f5f"
          },
          "geo": {
           "bgcolor": "white",
           "lakecolor": "white",
           "landcolor": "#E5ECF6",
           "showlakes": true,
           "showland": true,
           "subunitcolor": "white"
          },
          "hoverlabel": {
           "align": "left"
          },
          "hovermode": "closest",
          "mapbox": {
           "style": "light"
          },
          "paper_bgcolor": "white",
          "plot_bgcolor": "#E5ECF6",
          "polar": {
           "angularaxis": {
            "gridcolor": "white",
            "linecolor": "white",
            "ticks": ""
           },
           "bgcolor": "#E5ECF6",
           "radialaxis": {
            "gridcolor": "white",
            "linecolor": "white",
            "ticks": ""
           }
          },
          "scene": {
           "xaxis": {
            "backgroundcolor": "#E5ECF6",
            "gridcolor": "white",
            "gridwidth": 2,
            "linecolor": "white",
            "showbackground": true,
            "ticks": "",
            "zerolinecolor": "white"
           },
           "yaxis": {
            "backgroundcolor": "#E5ECF6",
            "gridcolor": "white",
            "gridwidth": 2,
            "linecolor": "white",
            "showbackground": true,
            "ticks": "",
            "zerolinecolor": "white"
           },
           "zaxis": {
            "backgroundcolor": "#E5ECF6",
            "gridcolor": "white",
            "gridwidth": 2,
            "linecolor": "white",
            "showbackground": true,
            "ticks": "",
            "zerolinecolor": "white"
           }
          },
          "shapedefaults": {
           "line": {
            "color": "#2a3f5f"
           }
          },
          "ternary": {
           "aaxis": {
            "gridcolor": "white",
            "linecolor": "white",
            "ticks": ""
           },
           "baxis": {
            "gridcolor": "white",
            "linecolor": "white",
            "ticks": ""
           },
           "bgcolor": "#E5ECF6",
           "caxis": {
            "gridcolor": "white",
            "linecolor": "white",
            "ticks": ""
           }
          },
          "title": {
           "x": 0.05
          },
          "xaxis": {
           "automargin": true,
           "gridcolor": "white",
           "linecolor": "white",
           "ticks": "",
           "title": {
            "standoff": 15
           },
           "zerolinecolor": "white",
           "zerolinewidth": 2
          },
          "yaxis": {
           "automargin": true,
           "gridcolor": "white",
           "linecolor": "white",
           "ticks": "",
           "title": {
            "standoff": 15
           },
           "zerolinecolor": "white",
           "zerolinewidth": 2
          }
         }
        }
       }
      }
     },
     "metadata": {},
     "output_type": "display_data"
    }
   ],
   "source": [
    "# gragh of y1 prediction \n",
    "fig = go.Figure()\n",
    "fig.add_trace(go.Scatter(x = val1[\"Date\"], y = val1[\"gbr_pred_y1\"], mode = \"lines\", name = \"prediction\"))\n",
    "fig.add_trace(go.Scatter(x = val1[\"Date\"], y = val1[\"y1\"], mode = \"lines\", name = \"true price\"))\n",
    "fig.show()"
   ]
  },
  {
   "cell_type": "code",
   "execution_count": 24,
   "metadata": {},
   "outputs": [],
   "source": [
    "model3_results = val1.drop(['ma1', 'ma2', 'ma3', 'high_per', 'amplitude', 'vol_ma', 'open_diff', 'red_k', 'ma5'], axis=1).copy()"
   ]
  },
  {
   "cell_type": "code",
   "execution_count": 25,
   "metadata": {},
   "outputs": [
    {
     "name": "stdout",
     "output_type": "stream",
     "text": [
      "mape of y2: 1.79\n"
     ]
    },
    {
     "name": "stderr",
     "output_type": "stream",
     "text": [
      "c:\\Anaconda3\\envs\\public\\lib\\site-packages\\lightgbm\\engine.py:118: UserWarning:\n",
      "\n",
      "Found `n_estimators` in params. Will use it instead of argument\n",
      "\n",
      "c:\\Anaconda3\\envs\\public\\lib\\site-packages\\ipykernel_launcher.py:19: SettingWithCopyWarning:\n",
      "\n",
      "\n",
      "A value is trying to be set on a copy of a slice from a DataFrame.\n",
      "Try using .loc[row_indexer,col_indexer] = value instead\n",
      "\n",
      "See the caveats in the documentation: https://pandas.pydata.org/pandas-docs/stable/user_guide/indexing.html#returning-a-view-versus-a-copy\n",
      "\n"
     ]
    }
   ],
   "source": [
    "val1 = lotsoffeature_model(tr, features, 'y2', val,'gbr_pred_y2')\n",
    "print(f'mape of y2: {mape(val[\"y2\"], val[\"gbr_pred_y2\"])}')"
   ]
  },
  {
   "cell_type": "code",
   "execution_count": 26,
   "metadata": {},
   "outputs": [
    {
     "data": {
      "application/vnd.plotly.v1+json": {
       "config": {
        "plotlyServerURL": "https://plot.ly"
       },
       "data": [
        {
         "mode": "lines",
         "name": "prediction",
         "type": "scatter",
         "x": [
          "2022-06-01T00:00:00",
          "2022-06-02T00:00:00",
          "2022-06-06T00:00:00",
          "2022-06-07T00:00:00",
          "2022-06-08T00:00:00",
          "2022-06-09T00:00:00",
          "2022-06-10T00:00:00",
          "2022-06-13T00:00:00",
          "2022-06-14T00:00:00",
          "2022-06-15T00:00:00",
          "2022-06-16T00:00:00",
          "2022-06-17T00:00:00",
          "2022-06-20T00:00:00",
          "2022-06-21T00:00:00",
          "2022-06-22T00:00:00",
          "2022-06-23T00:00:00",
          "2022-06-24T00:00:00",
          "2022-06-27T00:00:00",
          "2022-06-28T00:00:00",
          "2022-06-29T00:00:00",
          "2022-06-30T00:00:00",
          "2022-07-01T00:00:00",
          "2022-07-04T00:00:00",
          "2022-07-05T00:00:00",
          "2022-07-06T00:00:00",
          "2022-07-07T00:00:00",
          "2022-07-08T00:00:00",
          "2022-07-11T00:00:00",
          "2022-07-12T00:00:00",
          "2022-07-13T00:00:00",
          "2022-07-14T00:00:00",
          "2022-07-15T00:00:00",
          "2022-07-18T00:00:00",
          "2022-07-19T00:00:00",
          "2022-07-20T00:00:00",
          "2022-07-21T00:00:00",
          "2022-07-22T00:00:00",
          "2022-07-25T00:00:00",
          "2022-07-26T00:00:00",
          "2022-07-27T00:00:00",
          "2022-07-28T00:00:00",
          "2022-07-29T00:00:00",
          "2022-08-01T00:00:00",
          "2022-08-02T00:00:00",
          "2022-08-03T00:00:00",
          "2022-08-04T00:00:00",
          "2022-08-05T00:00:00",
          "2022-08-08T00:00:00",
          "2022-08-09T00:00:00",
          "2022-08-10T00:00:00",
          "2022-08-11T00:00:00",
          "2022-08-12T00:00:00",
          "2022-08-15T00:00:00",
          "2022-08-16T00:00:00",
          "2022-08-17T00:00:00",
          "2022-08-18T00:00:00",
          "2022-08-19T00:00:00",
          "2022-08-22T00:00:00"
         ],
         "y": [
          34.050220635135304,
          34.98820994874355,
          35.01343403839445,
          34.3105180410145,
          33.83916671856457,
          34.30532468095588,
          32.89513327693768,
          32.93675768621993,
          31.709449812036482,
          32.102605298024734,
          32.14673416784427,
          29.39694879393196,
          29.433414282882683,
          30.818061256071026,
          31.99362962637851,
          31.084276082930625,
          31.207616641051064,
          31.87505694552418,
          31.71573981233481,
          31.717090998443656,
          31.814200672656895,
          30.630619970215367,
          31.71997639700612,
          31.87591201538904,
          31.64249768401247,
          31.78200164733988,
          32.24538616613909,
          32.47826836340723,
          31.43640441891906,
          33.17056393429001,
          33.11714337180634,
          31.847145709170864,
          33.14603134355097,
          33.81488457795439,
          34.38684144162494,
          34.45828352035984,
          34.05496610843903,
          34.0687309391553,
          34.124361276485544,
          34.32443888984659,
          33.749922022596365,
          33.83916671856457,
          33.530033509454256,
          31.776594311562334,
          31.541718273483227,
          31.850199506920653,
          31.936841014668552,
          31.78903155633903,
          31.563217015088213,
          31.819266061659484,
          32.53943952837445,
          31.883369604823834,
          31.397313805786908,
          32.570463250445265,
          32.45627002779457,
          33.116044503887544,
          31.802528295000055,
          32.43136566653853
         ]
        },
        {
         "mode": "lines",
         "name": "true price",
         "type": "scatter",
         "x": [
          "2022-06-01T00:00:00",
          "2022-06-02T00:00:00",
          "2022-06-06T00:00:00",
          "2022-06-07T00:00:00",
          "2022-06-08T00:00:00",
          "2022-06-09T00:00:00",
          "2022-06-10T00:00:00",
          "2022-06-13T00:00:00",
          "2022-06-14T00:00:00",
          "2022-06-15T00:00:00",
          "2022-06-16T00:00:00",
          "2022-06-17T00:00:00",
          "2022-06-20T00:00:00",
          "2022-06-21T00:00:00",
          "2022-06-22T00:00:00",
          "2022-06-23T00:00:00",
          "2022-06-24T00:00:00",
          "2022-06-27T00:00:00",
          "2022-06-28T00:00:00",
          "2022-06-29T00:00:00",
          "2022-06-30T00:00:00",
          "2022-07-01T00:00:00",
          "2022-07-04T00:00:00",
          "2022-07-05T00:00:00",
          "2022-07-06T00:00:00",
          "2022-07-07T00:00:00",
          "2022-07-08T00:00:00",
          "2022-07-11T00:00:00",
          "2022-07-12T00:00:00",
          "2022-07-13T00:00:00",
          "2022-07-14T00:00:00",
          "2022-07-15T00:00:00",
          "2022-07-18T00:00:00",
          "2022-07-19T00:00:00",
          "2022-07-20T00:00:00",
          "2022-07-21T00:00:00",
          "2022-07-22T00:00:00",
          "2022-07-25T00:00:00",
          "2022-07-26T00:00:00",
          "2022-07-27T00:00:00",
          "2022-07-28T00:00:00",
          "2022-07-29T00:00:00",
          "2022-08-01T00:00:00",
          "2022-08-02T00:00:00",
          "2022-08-03T00:00:00",
          "2022-08-04T00:00:00",
          "2022-08-05T00:00:00",
          "2022-08-08T00:00:00",
          "2022-08-09T00:00:00",
          "2022-08-10T00:00:00",
          "2022-08-11T00:00:00",
          "2022-08-12T00:00:00",
          "2022-08-15T00:00:00",
          "2022-08-16T00:00:00",
          "2022-08-17T00:00:00",
          "2022-08-18T00:00:00",
          "2022-08-19T00:00:00",
          "2022-08-22T00:00:00"
         ],
         "y": [
          34.964021159079365,
          34.81690399402065,
          34.42460176935539,
          33.9342226165622,
          33.59095606250875,
          33.24769429550704,
          32.65923799242604,
          31.87463135400652,
          32.07078348139334,
          32.61020068824657,
          30.403495334427436,
          29.667926773897317,
          30.94291114807129,
          31.87463129599264,
          31.384252816764253,
          30.550607380810373,
          31.23713978896224,
          30.648684669184444,
          30.99194908142089,
          31.53136783310968,
          31.040987086223343,
          30.99194977785109,
          31.82559341700106,
          31.77655650019633,
          31.77655792236328,
          32.56116242226696,
          32.36500989786032,
          31.678479272640583,
          34.032298414403954,
          32.7573162187673,
          32.26693600565053,
          32.85539070208148,
          33.63999320631196,
          34.130373531885304,
          34.08133658527458,
          33.83614552281904,
          33.4928823614461,
          33.738073225694144,
          33.68903272220715,
          33.93422242485945,
          33.492885409771425,
          33.39480743730554,
          31.87463190588688,
          30.94291171169607,
          30.700000762939453,
          31.850000381469727,
          31.850000381469727,
          32,
          32,
          32.5,
          32.099998474121094,
          31.850000381469727,
          32.349998474121094,
          32.5,
          32.29999923706055,
          32.29999923706055,
          32.099998474121094,
          32.150001525878906
         ]
        }
       ],
       "layout": {
        "template": {
         "data": {
          "bar": [
           {
            "error_x": {
             "color": "#2a3f5f"
            },
            "error_y": {
             "color": "#2a3f5f"
            },
            "marker": {
             "line": {
              "color": "#E5ECF6",
              "width": 0.5
             },
             "pattern": {
              "fillmode": "overlay",
              "size": 10,
              "solidity": 0.2
             }
            },
            "type": "bar"
           }
          ],
          "barpolar": [
           {
            "marker": {
             "line": {
              "color": "#E5ECF6",
              "width": 0.5
             },
             "pattern": {
              "fillmode": "overlay",
              "size": 10,
              "solidity": 0.2
             }
            },
            "type": "barpolar"
           }
          ],
          "carpet": [
           {
            "aaxis": {
             "endlinecolor": "#2a3f5f",
             "gridcolor": "white",
             "linecolor": "white",
             "minorgridcolor": "white",
             "startlinecolor": "#2a3f5f"
            },
            "baxis": {
             "endlinecolor": "#2a3f5f",
             "gridcolor": "white",
             "linecolor": "white",
             "minorgridcolor": "white",
             "startlinecolor": "#2a3f5f"
            },
            "type": "carpet"
           }
          ],
          "choropleth": [
           {
            "colorbar": {
             "outlinewidth": 0,
             "ticks": ""
            },
            "type": "choropleth"
           }
          ],
          "contour": [
           {
            "colorbar": {
             "outlinewidth": 0,
             "ticks": ""
            },
            "colorscale": [
             [
              0,
              "#0d0887"
             ],
             [
              0.1111111111111111,
              "#46039f"
             ],
             [
              0.2222222222222222,
              "#7201a8"
             ],
             [
              0.3333333333333333,
              "#9c179e"
             ],
             [
              0.4444444444444444,
              "#bd3786"
             ],
             [
              0.5555555555555556,
              "#d8576b"
             ],
             [
              0.6666666666666666,
              "#ed7953"
             ],
             [
              0.7777777777777778,
              "#fb9f3a"
             ],
             [
              0.8888888888888888,
              "#fdca26"
             ],
             [
              1,
              "#f0f921"
             ]
            ],
            "type": "contour"
           }
          ],
          "contourcarpet": [
           {
            "colorbar": {
             "outlinewidth": 0,
             "ticks": ""
            },
            "type": "contourcarpet"
           }
          ],
          "heatmap": [
           {
            "colorbar": {
             "outlinewidth": 0,
             "ticks": ""
            },
            "colorscale": [
             [
              0,
              "#0d0887"
             ],
             [
              0.1111111111111111,
              "#46039f"
             ],
             [
              0.2222222222222222,
              "#7201a8"
             ],
             [
              0.3333333333333333,
              "#9c179e"
             ],
             [
              0.4444444444444444,
              "#bd3786"
             ],
             [
              0.5555555555555556,
              "#d8576b"
             ],
             [
              0.6666666666666666,
              "#ed7953"
             ],
             [
              0.7777777777777778,
              "#fb9f3a"
             ],
             [
              0.8888888888888888,
              "#fdca26"
             ],
             [
              1,
              "#f0f921"
             ]
            ],
            "type": "heatmap"
           }
          ],
          "heatmapgl": [
           {
            "colorbar": {
             "outlinewidth": 0,
             "ticks": ""
            },
            "colorscale": [
             [
              0,
              "#0d0887"
             ],
             [
              0.1111111111111111,
              "#46039f"
             ],
             [
              0.2222222222222222,
              "#7201a8"
             ],
             [
              0.3333333333333333,
              "#9c179e"
             ],
             [
              0.4444444444444444,
              "#bd3786"
             ],
             [
              0.5555555555555556,
              "#d8576b"
             ],
             [
              0.6666666666666666,
              "#ed7953"
             ],
             [
              0.7777777777777778,
              "#fb9f3a"
             ],
             [
              0.8888888888888888,
              "#fdca26"
             ],
             [
              1,
              "#f0f921"
             ]
            ],
            "type": "heatmapgl"
           }
          ],
          "histogram": [
           {
            "marker": {
             "pattern": {
              "fillmode": "overlay",
              "size": 10,
              "solidity": 0.2
             }
            },
            "type": "histogram"
           }
          ],
          "histogram2d": [
           {
            "colorbar": {
             "outlinewidth": 0,
             "ticks": ""
            },
            "colorscale": [
             [
              0,
              "#0d0887"
             ],
             [
              0.1111111111111111,
              "#46039f"
             ],
             [
              0.2222222222222222,
              "#7201a8"
             ],
             [
              0.3333333333333333,
              "#9c179e"
             ],
             [
              0.4444444444444444,
              "#bd3786"
             ],
             [
              0.5555555555555556,
              "#d8576b"
             ],
             [
              0.6666666666666666,
              "#ed7953"
             ],
             [
              0.7777777777777778,
              "#fb9f3a"
             ],
             [
              0.8888888888888888,
              "#fdca26"
             ],
             [
              1,
              "#f0f921"
             ]
            ],
            "type": "histogram2d"
           }
          ],
          "histogram2dcontour": [
           {
            "colorbar": {
             "outlinewidth": 0,
             "ticks": ""
            },
            "colorscale": [
             [
              0,
              "#0d0887"
             ],
             [
              0.1111111111111111,
              "#46039f"
             ],
             [
              0.2222222222222222,
              "#7201a8"
             ],
             [
              0.3333333333333333,
              "#9c179e"
             ],
             [
              0.4444444444444444,
              "#bd3786"
             ],
             [
              0.5555555555555556,
              "#d8576b"
             ],
             [
              0.6666666666666666,
              "#ed7953"
             ],
             [
              0.7777777777777778,
              "#fb9f3a"
             ],
             [
              0.8888888888888888,
              "#fdca26"
             ],
             [
              1,
              "#f0f921"
             ]
            ],
            "type": "histogram2dcontour"
           }
          ],
          "mesh3d": [
           {
            "colorbar": {
             "outlinewidth": 0,
             "ticks": ""
            },
            "type": "mesh3d"
           }
          ],
          "parcoords": [
           {
            "line": {
             "colorbar": {
              "outlinewidth": 0,
              "ticks": ""
             }
            },
            "type": "parcoords"
           }
          ],
          "pie": [
           {
            "automargin": true,
            "type": "pie"
           }
          ],
          "scatter": [
           {
            "fillpattern": {
             "fillmode": "overlay",
             "size": 10,
             "solidity": 0.2
            },
            "type": "scatter"
           }
          ],
          "scatter3d": [
           {
            "line": {
             "colorbar": {
              "outlinewidth": 0,
              "ticks": ""
             }
            },
            "marker": {
             "colorbar": {
              "outlinewidth": 0,
              "ticks": ""
             }
            },
            "type": "scatter3d"
           }
          ],
          "scattercarpet": [
           {
            "marker": {
             "colorbar": {
              "outlinewidth": 0,
              "ticks": ""
             }
            },
            "type": "scattercarpet"
           }
          ],
          "scattergeo": [
           {
            "marker": {
             "colorbar": {
              "outlinewidth": 0,
              "ticks": ""
             }
            },
            "type": "scattergeo"
           }
          ],
          "scattergl": [
           {
            "marker": {
             "colorbar": {
              "outlinewidth": 0,
              "ticks": ""
             }
            },
            "type": "scattergl"
           }
          ],
          "scattermapbox": [
           {
            "marker": {
             "colorbar": {
              "outlinewidth": 0,
              "ticks": ""
             }
            },
            "type": "scattermapbox"
           }
          ],
          "scatterpolar": [
           {
            "marker": {
             "colorbar": {
              "outlinewidth": 0,
              "ticks": ""
             }
            },
            "type": "scatterpolar"
           }
          ],
          "scatterpolargl": [
           {
            "marker": {
             "colorbar": {
              "outlinewidth": 0,
              "ticks": ""
             }
            },
            "type": "scatterpolargl"
           }
          ],
          "scatterternary": [
           {
            "marker": {
             "colorbar": {
              "outlinewidth": 0,
              "ticks": ""
             }
            },
            "type": "scatterternary"
           }
          ],
          "surface": [
           {
            "colorbar": {
             "outlinewidth": 0,
             "ticks": ""
            },
            "colorscale": [
             [
              0,
              "#0d0887"
             ],
             [
              0.1111111111111111,
              "#46039f"
             ],
             [
              0.2222222222222222,
              "#7201a8"
             ],
             [
              0.3333333333333333,
              "#9c179e"
             ],
             [
              0.4444444444444444,
              "#bd3786"
             ],
             [
              0.5555555555555556,
              "#d8576b"
             ],
             [
              0.6666666666666666,
              "#ed7953"
             ],
             [
              0.7777777777777778,
              "#fb9f3a"
             ],
             [
              0.8888888888888888,
              "#fdca26"
             ],
             [
              1,
              "#f0f921"
             ]
            ],
            "type": "surface"
           }
          ],
          "table": [
           {
            "cells": {
             "fill": {
              "color": "#EBF0F8"
             },
             "line": {
              "color": "white"
             }
            },
            "header": {
             "fill": {
              "color": "#C8D4E3"
             },
             "line": {
              "color": "white"
             }
            },
            "type": "table"
           }
          ]
         },
         "layout": {
          "annotationdefaults": {
           "arrowcolor": "#2a3f5f",
           "arrowhead": 0,
           "arrowwidth": 1
          },
          "autotypenumbers": "strict",
          "coloraxis": {
           "colorbar": {
            "outlinewidth": 0,
            "ticks": ""
           }
          },
          "colorscale": {
           "diverging": [
            [
             0,
             "#8e0152"
            ],
            [
             0.1,
             "#c51b7d"
            ],
            [
             0.2,
             "#de77ae"
            ],
            [
             0.3,
             "#f1b6da"
            ],
            [
             0.4,
             "#fde0ef"
            ],
            [
             0.5,
             "#f7f7f7"
            ],
            [
             0.6,
             "#e6f5d0"
            ],
            [
             0.7,
             "#b8e186"
            ],
            [
             0.8,
             "#7fbc41"
            ],
            [
             0.9,
             "#4d9221"
            ],
            [
             1,
             "#276419"
            ]
           ],
           "sequential": [
            [
             0,
             "#0d0887"
            ],
            [
             0.1111111111111111,
             "#46039f"
            ],
            [
             0.2222222222222222,
             "#7201a8"
            ],
            [
             0.3333333333333333,
             "#9c179e"
            ],
            [
             0.4444444444444444,
             "#bd3786"
            ],
            [
             0.5555555555555556,
             "#d8576b"
            ],
            [
             0.6666666666666666,
             "#ed7953"
            ],
            [
             0.7777777777777778,
             "#fb9f3a"
            ],
            [
             0.8888888888888888,
             "#fdca26"
            ],
            [
             1,
             "#f0f921"
            ]
           ],
           "sequentialminus": [
            [
             0,
             "#0d0887"
            ],
            [
             0.1111111111111111,
             "#46039f"
            ],
            [
             0.2222222222222222,
             "#7201a8"
            ],
            [
             0.3333333333333333,
             "#9c179e"
            ],
            [
             0.4444444444444444,
             "#bd3786"
            ],
            [
             0.5555555555555556,
             "#d8576b"
            ],
            [
             0.6666666666666666,
             "#ed7953"
            ],
            [
             0.7777777777777778,
             "#fb9f3a"
            ],
            [
             0.8888888888888888,
             "#fdca26"
            ],
            [
             1,
             "#f0f921"
            ]
           ]
          },
          "colorway": [
           "#636efa",
           "#EF553B",
           "#00cc96",
           "#ab63fa",
           "#FFA15A",
           "#19d3f3",
           "#FF6692",
           "#B6E880",
           "#FF97FF",
           "#FECB52"
          ],
          "font": {
           "color": "#2a3f5f"
          },
          "geo": {
           "bgcolor": "white",
           "lakecolor": "white",
           "landcolor": "#E5ECF6",
           "showlakes": true,
           "showland": true,
           "subunitcolor": "white"
          },
          "hoverlabel": {
           "align": "left"
          },
          "hovermode": "closest",
          "mapbox": {
           "style": "light"
          },
          "paper_bgcolor": "white",
          "plot_bgcolor": "#E5ECF6",
          "polar": {
           "angularaxis": {
            "gridcolor": "white",
            "linecolor": "white",
            "ticks": ""
           },
           "bgcolor": "#E5ECF6",
           "radialaxis": {
            "gridcolor": "white",
            "linecolor": "white",
            "ticks": ""
           }
          },
          "scene": {
           "xaxis": {
            "backgroundcolor": "#E5ECF6",
            "gridcolor": "white",
            "gridwidth": 2,
            "linecolor": "white",
            "showbackground": true,
            "ticks": "",
            "zerolinecolor": "white"
           },
           "yaxis": {
            "backgroundcolor": "#E5ECF6",
            "gridcolor": "white",
            "gridwidth": 2,
            "linecolor": "white",
            "showbackground": true,
            "ticks": "",
            "zerolinecolor": "white"
           },
           "zaxis": {
            "backgroundcolor": "#E5ECF6",
            "gridcolor": "white",
            "gridwidth": 2,
            "linecolor": "white",
            "showbackground": true,
            "ticks": "",
            "zerolinecolor": "white"
           }
          },
          "shapedefaults": {
           "line": {
            "color": "#2a3f5f"
           }
          },
          "ternary": {
           "aaxis": {
            "gridcolor": "white",
            "linecolor": "white",
            "ticks": ""
           },
           "baxis": {
            "gridcolor": "white",
            "linecolor": "white",
            "ticks": ""
           },
           "bgcolor": "#E5ECF6",
           "caxis": {
            "gridcolor": "white",
            "linecolor": "white",
            "ticks": ""
           }
          },
          "title": {
           "x": 0.05
          },
          "xaxis": {
           "automargin": true,
           "gridcolor": "white",
           "linecolor": "white",
           "ticks": "",
           "title": {
            "standoff": 15
           },
           "zerolinecolor": "white",
           "zerolinewidth": 2
          },
          "yaxis": {
           "automargin": true,
           "gridcolor": "white",
           "linecolor": "white",
           "ticks": "",
           "title": {
            "standoff": 15
           },
           "zerolinecolor": "white",
           "zerolinewidth": 2
          }
         }
        }
       }
      }
     },
     "metadata": {},
     "output_type": "display_data"
    }
   ],
   "source": [
    "# gragh of y1 prediction \n",
    "fig = go.Figure()\n",
    "fig.add_trace(go.Scatter(x = val1[\"Date\"], y = val1[\"gbr_pred_y2\"], mode = \"lines\", name = \"prediction\"))\n",
    "fig.add_trace(go.Scatter(x = val1[\"Date\"], y = val1[\"y2\"], mode = \"lines\", name = \"true price\"))\n",
    "fig.show()"
   ]
  },
  {
   "cell_type": "code",
   "execution_count": 27,
   "metadata": {},
   "outputs": [],
   "source": [
    "model3_results = model3_results.merge(val1[['Date', 'gbr_pred_y2']], on='Date', how='left')"
   ]
  },
  {
   "cell_type": "code",
   "execution_count": 28,
   "metadata": {},
   "outputs": [
    {
     "name": "stdout",
     "output_type": "stream",
     "text": [
      "mape of y3: 1.76\n"
     ]
    },
    {
     "name": "stderr",
     "output_type": "stream",
     "text": [
      "c:\\Anaconda3\\envs\\public\\lib\\site-packages\\lightgbm\\engine.py:118: UserWarning:\n",
      "\n",
      "Found `n_estimators` in params. Will use it instead of argument\n",
      "\n",
      "c:\\Anaconda3\\envs\\public\\lib\\site-packages\\ipykernel_launcher.py:19: SettingWithCopyWarning:\n",
      "\n",
      "\n",
      "A value is trying to be set on a copy of a slice from a DataFrame.\n",
      "Try using .loc[row_indexer,col_indexer] = value instead\n",
      "\n",
      "See the caveats in the documentation: https://pandas.pydata.org/pandas-docs/stable/user_guide/indexing.html#returning-a-view-versus-a-copy\n",
      "\n"
     ]
    }
   ],
   "source": [
    "val1 = lotsoffeature_model(tr, features, 'y3', val,'gbr_pred_y3')\n",
    "print(f'mape of y3: {mape(val[\"y3\"], val[\"gbr_pred_y3\"])}')"
   ]
  },
  {
   "cell_type": "code",
   "execution_count": 29,
   "metadata": {},
   "outputs": [
    {
     "data": {
      "application/vnd.plotly.v1+json": {
       "config": {
        "plotlyServerURL": "https://plot.ly"
       },
       "data": [
        {
         "mode": "lines",
         "name": "prediction",
         "type": "scatter",
         "x": [
          "2022-06-01T00:00:00",
          "2022-06-02T00:00:00",
          "2022-06-06T00:00:00",
          "2022-06-07T00:00:00",
          "2022-06-08T00:00:00",
          "2022-06-09T00:00:00",
          "2022-06-10T00:00:00",
          "2022-06-13T00:00:00",
          "2022-06-14T00:00:00",
          "2022-06-15T00:00:00",
          "2022-06-16T00:00:00",
          "2022-06-17T00:00:00",
          "2022-06-20T00:00:00",
          "2022-06-21T00:00:00",
          "2022-06-22T00:00:00",
          "2022-06-23T00:00:00",
          "2022-06-24T00:00:00",
          "2022-06-27T00:00:00",
          "2022-06-28T00:00:00",
          "2022-06-29T00:00:00",
          "2022-06-30T00:00:00",
          "2022-07-01T00:00:00",
          "2022-07-04T00:00:00",
          "2022-07-05T00:00:00",
          "2022-07-06T00:00:00",
          "2022-07-07T00:00:00",
          "2022-07-08T00:00:00",
          "2022-07-11T00:00:00",
          "2022-07-12T00:00:00",
          "2022-07-13T00:00:00",
          "2022-07-14T00:00:00",
          "2022-07-15T00:00:00",
          "2022-07-18T00:00:00",
          "2022-07-19T00:00:00",
          "2022-07-20T00:00:00",
          "2022-07-21T00:00:00",
          "2022-07-22T00:00:00",
          "2022-07-25T00:00:00",
          "2022-07-26T00:00:00",
          "2022-07-27T00:00:00",
          "2022-07-28T00:00:00",
          "2022-07-29T00:00:00",
          "2022-08-01T00:00:00",
          "2022-08-02T00:00:00",
          "2022-08-03T00:00:00",
          "2022-08-04T00:00:00",
          "2022-08-05T00:00:00",
          "2022-08-08T00:00:00",
          "2022-08-09T00:00:00",
          "2022-08-10T00:00:00",
          "2022-08-11T00:00:00",
          "2022-08-12T00:00:00",
          "2022-08-15T00:00:00",
          "2022-08-16T00:00:00",
          "2022-08-17T00:00:00",
          "2022-08-18T00:00:00",
          "2022-08-19T00:00:00",
          "2022-08-22T00:00:00"
         ],
         "y": [
          32.941090440436966,
          33.66802612751342,
          33.6827190668746,
          33.03514396688542,
          32.81476283497854,
          32.75922450360925,
          32.22791682129977,
          31.392877031025435,
          30.69648262680669,
          30.476697409086015,
          30.5565997534388,
          27.71515301373943,
          27.5706629674503,
          30.356821637336317,
          30.63243853884149,
          30.095631547840483,
          30.06858636844896,
          30.26718014749319,
          30.24267588787206,
          30.22805561391653,
          30.337524432166692,
          28.978664780254505,
          30.254616001872837,
          30.79239790791353,
          30.506025979867893,
          30.729091718037587,
          30.791873311048064,
          31.161228780023336,
          30.258206448491816,
          31.366211386831733,
          31.320764253727504,
          30.995578936110427,
          31.551991719008264,
          32.53563039567507,
          32.77755094936012,
          33.06761424353627,
          32.81476283497854,
          32.687251484193624,
          32.857018287623525,
          32.78817823866147,
          32.80645624860532,
          32.954457852461765,
          32.382215498956135,
          30.339574916920384,
          30.12855127637361,
          30.403583911707127,
          30.902166639789836,
          30.837746970289476,
          30.790354223398307,
          30.689269170158294,
          31.394467762282193,
          31.011284467657305,
          30.646453885110915,
          31.129200380864233,
          31.53239414934841,
          31.342891435633184,
          30.975751134968366,
          31.131244333599295
         ]
        },
        {
         "mode": "lines",
         "name": "true price",
         "type": "scatter",
         "x": [
          "2022-06-01T00:00:00",
          "2022-06-02T00:00:00",
          "2022-06-06T00:00:00",
          "2022-06-07T00:00:00",
          "2022-06-08T00:00:00",
          "2022-06-09T00:00:00",
          "2022-06-10T00:00:00",
          "2022-06-13T00:00:00",
          "2022-06-14T00:00:00",
          "2022-06-15T00:00:00",
          "2022-06-16T00:00:00",
          "2022-06-17T00:00:00",
          "2022-06-20T00:00:00",
          "2022-06-21T00:00:00",
          "2022-06-22T00:00:00",
          "2022-06-23T00:00:00",
          "2022-06-24T00:00:00",
          "2022-06-27T00:00:00",
          "2022-06-28T00:00:00",
          "2022-06-29T00:00:00",
          "2022-06-30T00:00:00",
          "2022-07-01T00:00:00",
          "2022-07-04T00:00:00",
          "2022-07-05T00:00:00",
          "2022-07-06T00:00:00",
          "2022-07-07T00:00:00",
          "2022-07-08T00:00:00",
          "2022-07-11T00:00:00",
          "2022-07-12T00:00:00",
          "2022-07-13T00:00:00",
          "2022-07-14T00:00:00",
          "2022-07-15T00:00:00",
          "2022-07-18T00:00:00",
          "2022-07-19T00:00:00",
          "2022-07-20T00:00:00",
          "2022-07-21T00:00:00",
          "2022-07-22T00:00:00",
          "2022-07-25T00:00:00",
          "2022-07-26T00:00:00",
          "2022-07-27T00:00:00",
          "2022-07-28T00:00:00",
          "2022-07-29T00:00:00",
          "2022-08-01T00:00:00",
          "2022-08-02T00:00:00",
          "2022-08-03T00:00:00",
          "2022-08-04T00:00:00",
          "2022-08-05T00:00:00",
          "2022-08-08T00:00:00",
          "2022-08-09T00:00:00",
          "2022-08-10T00:00:00",
          "2022-08-11T00:00:00",
          "2022-08-12T00:00:00",
          "2022-08-15T00:00:00",
          "2022-08-16T00:00:00",
          "2022-08-17T00:00:00",
          "2022-08-18T00:00:00",
          "2022-08-19T00:00:00",
          "2022-08-22T00:00:00"
         ],
         "y": [
          33.39480625062527,
          33.934220424415074,
          33.394806693421515,
          32.953464694218844,
          32.56116107746441,
          32.2178955078125,
          31.18810111221501,
          31.090025792012938,
          31.48232650756836,
          30.69772200488749,
          28.49101665384164,
          28.147752761840817,
          28.981395338478247,
          30.354457320904174,
          29.56985032666562,
          29.56984950745757,
          30.305419026760127,
          29.61888961255875,
          29.81503888858133,
          30.599647084236096,
          29.128510308210803,
          29.618889102448566,
          30.64868323260997,
          30.79579675906524,
          30.256382032689103,
          31.43328936173988,
          31.4823263132191,
          30.550608067078564,
          31.72751520376451,
          31.92366973704708,
          31.53136758978884,
          31.972707067298767,
          32.41404590476054,
          33.29673082903173,
          33.05154155182013,
          33.10057714188819,
          32.708273081677326,
          32.90442676667909,
          33.10057947254636,
          32.95346450805664,
          33.14961788330682,
          32.26693803998545,
          30.94291114807129,
          29.91311664116092,
          29.25,
          30.950000762939453,
          31,
          31.450000762939453,
          31.100000381469727,
          31.899999618530277,
          31.399999618530277,
          31.100000381469727,
          31.5,
          32.04999923706055,
          31.799999237060547,
          31.600000381469727,
          31.25,
          31.700000762939453
         ]
        }
       ],
       "layout": {
        "template": {
         "data": {
          "bar": [
           {
            "error_x": {
             "color": "#2a3f5f"
            },
            "error_y": {
             "color": "#2a3f5f"
            },
            "marker": {
             "line": {
              "color": "#E5ECF6",
              "width": 0.5
             },
             "pattern": {
              "fillmode": "overlay",
              "size": 10,
              "solidity": 0.2
             }
            },
            "type": "bar"
           }
          ],
          "barpolar": [
           {
            "marker": {
             "line": {
              "color": "#E5ECF6",
              "width": 0.5
             },
             "pattern": {
              "fillmode": "overlay",
              "size": 10,
              "solidity": 0.2
             }
            },
            "type": "barpolar"
           }
          ],
          "carpet": [
           {
            "aaxis": {
             "endlinecolor": "#2a3f5f",
             "gridcolor": "white",
             "linecolor": "white",
             "minorgridcolor": "white",
             "startlinecolor": "#2a3f5f"
            },
            "baxis": {
             "endlinecolor": "#2a3f5f",
             "gridcolor": "white",
             "linecolor": "white",
             "minorgridcolor": "white",
             "startlinecolor": "#2a3f5f"
            },
            "type": "carpet"
           }
          ],
          "choropleth": [
           {
            "colorbar": {
             "outlinewidth": 0,
             "ticks": ""
            },
            "type": "choropleth"
           }
          ],
          "contour": [
           {
            "colorbar": {
             "outlinewidth": 0,
             "ticks": ""
            },
            "colorscale": [
             [
              0,
              "#0d0887"
             ],
             [
              0.1111111111111111,
              "#46039f"
             ],
             [
              0.2222222222222222,
              "#7201a8"
             ],
             [
              0.3333333333333333,
              "#9c179e"
             ],
             [
              0.4444444444444444,
              "#bd3786"
             ],
             [
              0.5555555555555556,
              "#d8576b"
             ],
             [
              0.6666666666666666,
              "#ed7953"
             ],
             [
              0.7777777777777778,
              "#fb9f3a"
             ],
             [
              0.8888888888888888,
              "#fdca26"
             ],
             [
              1,
              "#f0f921"
             ]
            ],
            "type": "contour"
           }
          ],
          "contourcarpet": [
           {
            "colorbar": {
             "outlinewidth": 0,
             "ticks": ""
            },
            "type": "contourcarpet"
           }
          ],
          "heatmap": [
           {
            "colorbar": {
             "outlinewidth": 0,
             "ticks": ""
            },
            "colorscale": [
             [
              0,
              "#0d0887"
             ],
             [
              0.1111111111111111,
              "#46039f"
             ],
             [
              0.2222222222222222,
              "#7201a8"
             ],
             [
              0.3333333333333333,
              "#9c179e"
             ],
             [
              0.4444444444444444,
              "#bd3786"
             ],
             [
              0.5555555555555556,
              "#d8576b"
             ],
             [
              0.6666666666666666,
              "#ed7953"
             ],
             [
              0.7777777777777778,
              "#fb9f3a"
             ],
             [
              0.8888888888888888,
              "#fdca26"
             ],
             [
              1,
              "#f0f921"
             ]
            ],
            "type": "heatmap"
           }
          ],
          "heatmapgl": [
           {
            "colorbar": {
             "outlinewidth": 0,
             "ticks": ""
            },
            "colorscale": [
             [
              0,
              "#0d0887"
             ],
             [
              0.1111111111111111,
              "#46039f"
             ],
             [
              0.2222222222222222,
              "#7201a8"
             ],
             [
              0.3333333333333333,
              "#9c179e"
             ],
             [
              0.4444444444444444,
              "#bd3786"
             ],
             [
              0.5555555555555556,
              "#d8576b"
             ],
             [
              0.6666666666666666,
              "#ed7953"
             ],
             [
              0.7777777777777778,
              "#fb9f3a"
             ],
             [
              0.8888888888888888,
              "#fdca26"
             ],
             [
              1,
              "#f0f921"
             ]
            ],
            "type": "heatmapgl"
           }
          ],
          "histogram": [
           {
            "marker": {
             "pattern": {
              "fillmode": "overlay",
              "size": 10,
              "solidity": 0.2
             }
            },
            "type": "histogram"
           }
          ],
          "histogram2d": [
           {
            "colorbar": {
             "outlinewidth": 0,
             "ticks": ""
            },
            "colorscale": [
             [
              0,
              "#0d0887"
             ],
             [
              0.1111111111111111,
              "#46039f"
             ],
             [
              0.2222222222222222,
              "#7201a8"
             ],
             [
              0.3333333333333333,
              "#9c179e"
             ],
             [
              0.4444444444444444,
              "#bd3786"
             ],
             [
              0.5555555555555556,
              "#d8576b"
             ],
             [
              0.6666666666666666,
              "#ed7953"
             ],
             [
              0.7777777777777778,
              "#fb9f3a"
             ],
             [
              0.8888888888888888,
              "#fdca26"
             ],
             [
              1,
              "#f0f921"
             ]
            ],
            "type": "histogram2d"
           }
          ],
          "histogram2dcontour": [
           {
            "colorbar": {
             "outlinewidth": 0,
             "ticks": ""
            },
            "colorscale": [
             [
              0,
              "#0d0887"
             ],
             [
              0.1111111111111111,
              "#46039f"
             ],
             [
              0.2222222222222222,
              "#7201a8"
             ],
             [
              0.3333333333333333,
              "#9c179e"
             ],
             [
              0.4444444444444444,
              "#bd3786"
             ],
             [
              0.5555555555555556,
              "#d8576b"
             ],
             [
              0.6666666666666666,
              "#ed7953"
             ],
             [
              0.7777777777777778,
              "#fb9f3a"
             ],
             [
              0.8888888888888888,
              "#fdca26"
             ],
             [
              1,
              "#f0f921"
             ]
            ],
            "type": "histogram2dcontour"
           }
          ],
          "mesh3d": [
           {
            "colorbar": {
             "outlinewidth": 0,
             "ticks": ""
            },
            "type": "mesh3d"
           }
          ],
          "parcoords": [
           {
            "line": {
             "colorbar": {
              "outlinewidth": 0,
              "ticks": ""
             }
            },
            "type": "parcoords"
           }
          ],
          "pie": [
           {
            "automargin": true,
            "type": "pie"
           }
          ],
          "scatter": [
           {
            "fillpattern": {
             "fillmode": "overlay",
             "size": 10,
             "solidity": 0.2
            },
            "type": "scatter"
           }
          ],
          "scatter3d": [
           {
            "line": {
             "colorbar": {
              "outlinewidth": 0,
              "ticks": ""
             }
            },
            "marker": {
             "colorbar": {
              "outlinewidth": 0,
              "ticks": ""
             }
            },
            "type": "scatter3d"
           }
          ],
          "scattercarpet": [
           {
            "marker": {
             "colorbar": {
              "outlinewidth": 0,
              "ticks": ""
             }
            },
            "type": "scattercarpet"
           }
          ],
          "scattergeo": [
           {
            "marker": {
             "colorbar": {
              "outlinewidth": 0,
              "ticks": ""
             }
            },
            "type": "scattergeo"
           }
          ],
          "scattergl": [
           {
            "marker": {
             "colorbar": {
              "outlinewidth": 0,
              "ticks": ""
             }
            },
            "type": "scattergl"
           }
          ],
          "scattermapbox": [
           {
            "marker": {
             "colorbar": {
              "outlinewidth": 0,
              "ticks": ""
             }
            },
            "type": "scattermapbox"
           }
          ],
          "scatterpolar": [
           {
            "marker": {
             "colorbar": {
              "outlinewidth": 0,
              "ticks": ""
             }
            },
            "type": "scatterpolar"
           }
          ],
          "scatterpolargl": [
           {
            "marker": {
             "colorbar": {
              "outlinewidth": 0,
              "ticks": ""
             }
            },
            "type": "scatterpolargl"
           }
          ],
          "scatterternary": [
           {
            "marker": {
             "colorbar": {
              "outlinewidth": 0,
              "ticks": ""
             }
            },
            "type": "scatterternary"
           }
          ],
          "surface": [
           {
            "colorbar": {
             "outlinewidth": 0,
             "ticks": ""
            },
            "colorscale": [
             [
              0,
              "#0d0887"
             ],
             [
              0.1111111111111111,
              "#46039f"
             ],
             [
              0.2222222222222222,
              "#7201a8"
             ],
             [
              0.3333333333333333,
              "#9c179e"
             ],
             [
              0.4444444444444444,
              "#bd3786"
             ],
             [
              0.5555555555555556,
              "#d8576b"
             ],
             [
              0.6666666666666666,
              "#ed7953"
             ],
             [
              0.7777777777777778,
              "#fb9f3a"
             ],
             [
              0.8888888888888888,
              "#fdca26"
             ],
             [
              1,
              "#f0f921"
             ]
            ],
            "type": "surface"
           }
          ],
          "table": [
           {
            "cells": {
             "fill": {
              "color": "#EBF0F8"
             },
             "line": {
              "color": "white"
             }
            },
            "header": {
             "fill": {
              "color": "#C8D4E3"
             },
             "line": {
              "color": "white"
             }
            },
            "type": "table"
           }
          ]
         },
         "layout": {
          "annotationdefaults": {
           "arrowcolor": "#2a3f5f",
           "arrowhead": 0,
           "arrowwidth": 1
          },
          "autotypenumbers": "strict",
          "coloraxis": {
           "colorbar": {
            "outlinewidth": 0,
            "ticks": ""
           }
          },
          "colorscale": {
           "diverging": [
            [
             0,
             "#8e0152"
            ],
            [
             0.1,
             "#c51b7d"
            ],
            [
             0.2,
             "#de77ae"
            ],
            [
             0.3,
             "#f1b6da"
            ],
            [
             0.4,
             "#fde0ef"
            ],
            [
             0.5,
             "#f7f7f7"
            ],
            [
             0.6,
             "#e6f5d0"
            ],
            [
             0.7,
             "#b8e186"
            ],
            [
             0.8,
             "#7fbc41"
            ],
            [
             0.9,
             "#4d9221"
            ],
            [
             1,
             "#276419"
            ]
           ],
           "sequential": [
            [
             0,
             "#0d0887"
            ],
            [
             0.1111111111111111,
             "#46039f"
            ],
            [
             0.2222222222222222,
             "#7201a8"
            ],
            [
             0.3333333333333333,
             "#9c179e"
            ],
            [
             0.4444444444444444,
             "#bd3786"
            ],
            [
             0.5555555555555556,
             "#d8576b"
            ],
            [
             0.6666666666666666,
             "#ed7953"
            ],
            [
             0.7777777777777778,
             "#fb9f3a"
            ],
            [
             0.8888888888888888,
             "#fdca26"
            ],
            [
             1,
             "#f0f921"
            ]
           ],
           "sequentialminus": [
            [
             0,
             "#0d0887"
            ],
            [
             0.1111111111111111,
             "#46039f"
            ],
            [
             0.2222222222222222,
             "#7201a8"
            ],
            [
             0.3333333333333333,
             "#9c179e"
            ],
            [
             0.4444444444444444,
             "#bd3786"
            ],
            [
             0.5555555555555556,
             "#d8576b"
            ],
            [
             0.6666666666666666,
             "#ed7953"
            ],
            [
             0.7777777777777778,
             "#fb9f3a"
            ],
            [
             0.8888888888888888,
             "#fdca26"
            ],
            [
             1,
             "#f0f921"
            ]
           ]
          },
          "colorway": [
           "#636efa",
           "#EF553B",
           "#00cc96",
           "#ab63fa",
           "#FFA15A",
           "#19d3f3",
           "#FF6692",
           "#B6E880",
           "#FF97FF",
           "#FECB52"
          ],
          "font": {
           "color": "#2a3f5f"
          },
          "geo": {
           "bgcolor": "white",
           "lakecolor": "white",
           "landcolor": "#E5ECF6",
           "showlakes": true,
           "showland": true,
           "subunitcolor": "white"
          },
          "hoverlabel": {
           "align": "left"
          },
          "hovermode": "closest",
          "mapbox": {
           "style": "light"
          },
          "paper_bgcolor": "white",
          "plot_bgcolor": "#E5ECF6",
          "polar": {
           "angularaxis": {
            "gridcolor": "white",
            "linecolor": "white",
            "ticks": ""
           },
           "bgcolor": "#E5ECF6",
           "radialaxis": {
            "gridcolor": "white",
            "linecolor": "white",
            "ticks": ""
           }
          },
          "scene": {
           "xaxis": {
            "backgroundcolor": "#E5ECF6",
            "gridcolor": "white",
            "gridwidth": 2,
            "linecolor": "white",
            "showbackground": true,
            "ticks": "",
            "zerolinecolor": "white"
           },
           "yaxis": {
            "backgroundcolor": "#E5ECF6",
            "gridcolor": "white",
            "gridwidth": 2,
            "linecolor": "white",
            "showbackground": true,
            "ticks": "",
            "zerolinecolor": "white"
           },
           "zaxis": {
            "backgroundcolor": "#E5ECF6",
            "gridcolor": "white",
            "gridwidth": 2,
            "linecolor": "white",
            "showbackground": true,
            "ticks": "",
            "zerolinecolor": "white"
           }
          },
          "shapedefaults": {
           "line": {
            "color": "#2a3f5f"
           }
          },
          "ternary": {
           "aaxis": {
            "gridcolor": "white",
            "linecolor": "white",
            "ticks": ""
           },
           "baxis": {
            "gridcolor": "white",
            "linecolor": "white",
            "ticks": ""
           },
           "bgcolor": "#E5ECF6",
           "caxis": {
            "gridcolor": "white",
            "linecolor": "white",
            "ticks": ""
           }
          },
          "title": {
           "x": 0.05
          },
          "xaxis": {
           "automargin": true,
           "gridcolor": "white",
           "linecolor": "white",
           "ticks": "",
           "title": {
            "standoff": 15
           },
           "zerolinecolor": "white",
           "zerolinewidth": 2
          },
          "yaxis": {
           "automargin": true,
           "gridcolor": "white",
           "linecolor": "white",
           "ticks": "",
           "title": {
            "standoff": 15
           },
           "zerolinecolor": "white",
           "zerolinewidth": 2
          }
         }
        }
       }
      }
     },
     "metadata": {},
     "output_type": "display_data"
    }
   ],
   "source": [
    "# gragh of y1 prediction \n",
    "fig = go.Figure()\n",
    "fig.add_trace(go.Scatter(x = val1[\"Date\"], y = val1[\"gbr_pred_y3\"], mode = \"lines\", name = \"prediction\"))\n",
    "fig.add_trace(go.Scatter(x = val1[\"Date\"], y = val1[\"y3\"], mode = \"lines\", name = \"true price\"))\n",
    "fig.show()"
   ]
  },
  {
   "cell_type": "code",
   "execution_count": 30,
   "metadata": {},
   "outputs": [],
   "source": [
    "model3_results = model3_results.merge(val1[['Date', 'gbr_pred_y3']], on='Date', how='left')"
   ]
  },
  {
   "cell_type": "markdown",
   "metadata": {},
   "source": [
    "# model with prophet"
   ]
  },
  {
   "cell_type": "markdown",
   "metadata": {},
   "source": [
    "## import packages"
   ]
  },
  {
   "cell_type": "code",
   "execution_count": 31,
   "metadata": {},
   "outputs": [
    {
     "name": "stdout",
     "output_type": "stream",
     "text": [
      "Prophet 1.1.1\n"
     ]
    }
   ],
   "source": [
    "import prophet\n",
    "from prophet import Prophet # should be prophet instead of fbprophet\n",
    "print('Prophet %s' % prophet.__version__) # check package version, should be 0.5 or higher"
   ]
  },
  {
   "cell_type": "markdown",
   "metadata": {},
   "source": [
    "## predict close"
   ]
  },
  {
   "cell_type": "code",
   "execution_count": 32,
   "metadata": {},
   "outputs": [],
   "source": [
    "df2618_3 = df2618.copy()\n",
    "df2618_3 = df2618[['Date', 'Close']]\n",
    "df2618_3 = df2618_3.rename({'Date': 'ds', 'Close': 'y'}, axis=1) # input col name must be ds, y\n",
    "tr, val = df2618_3[:-int(len(df2618_3)*0.10)], df2618_3[-int(len(df2618_3)*0.10):]"
   ]
  },
  {
   "cell_type": "code",
   "execution_count": 33,
   "metadata": {},
   "outputs": [
    {
     "name": "stderr",
     "output_type": "stream",
     "text": [
      "13:43:51 - cmdstanpy - INFO - Chain [1] start processing\n",
      "13:43:51 - cmdstanpy - INFO - Chain [1] done processing\n"
     ]
    },
    {
     "data": {
      "text/plain": [
       "<prophet.forecaster.Prophet at 0x1c5056e8f48>"
      ]
     },
     "execution_count": 33,
     "metadata": {},
     "output_type": "execute_result"
    }
   ],
   "source": [
    "model = Prophet(daily_seasonality=True)\n",
    "model.fit(tr)"
   ]
  },
  {
   "cell_type": "code",
   "execution_count": 34,
   "metadata": {},
   "outputs": [
    {
     "data": {
      "text/html": [
       "<div>\n",
       "<style scoped>\n",
       "    .dataframe tbody tr th:only-of-type {\n",
       "        vertical-align: middle;\n",
       "    }\n",
       "\n",
       "    .dataframe tbody tr th {\n",
       "        vertical-align: top;\n",
       "    }\n",
       "\n",
       "    .dataframe thead th {\n",
       "        text-align: right;\n",
       "    }\n",
       "</style>\n",
       "<table border=\"1\" class=\"dataframe\">\n",
       "  <thead>\n",
       "    <tr style=\"text-align: right;\">\n",
       "      <th></th>\n",
       "      <th>ds</th>\n",
       "      <th>y</th>\n",
       "      <th>yhat</th>\n",
       "      <th>yhat_lower</th>\n",
       "      <th>yhat_upper</th>\n",
       "    </tr>\n",
       "  </thead>\n",
       "  <tbody>\n",
       "    <tr>\n",
       "      <th>53</th>\n",
       "      <td>2022-08-17</td>\n",
       "      <td>32.200001</td>\n",
       "      <td>36.486588</td>\n",
       "      <td>35.087143</td>\n",
       "      <td>37.875757</td>\n",
       "    </tr>\n",
       "    <tr>\n",
       "      <th>54</th>\n",
       "      <td>2022-08-18</td>\n",
       "      <td>32.299999</td>\n",
       "      <td>36.647554</td>\n",
       "      <td>35.252072</td>\n",
       "      <td>38.227686</td>\n",
       "    </tr>\n",
       "    <tr>\n",
       "      <th>55</th>\n",
       "      <td>2022-08-19</td>\n",
       "      <td>31.700001</td>\n",
       "      <td>36.682251</td>\n",
       "      <td>35.225066</td>\n",
       "      <td>38.164865</td>\n",
       "    </tr>\n",
       "    <tr>\n",
       "      <th>56</th>\n",
       "      <td>2022-08-22</td>\n",
       "      <td>32.049999</td>\n",
       "      <td>36.747431</td>\n",
       "      <td>35.268272</td>\n",
       "      <td>38.318170</td>\n",
       "    </tr>\n",
       "    <tr>\n",
       "      <th>57</th>\n",
       "      <td>2022-08-23</td>\n",
       "      <td>31.799999</td>\n",
       "      <td>36.831446</td>\n",
       "      <td>35.312904</td>\n",
       "      <td>38.212064</td>\n",
       "    </tr>\n",
       "  </tbody>\n",
       "</table>\n",
       "</div>"
      ],
      "text/plain": [
       "           ds          y       yhat  yhat_lower  yhat_upper\n",
       "53 2022-08-17  32.200001  36.486588   35.087143   37.875757\n",
       "54 2022-08-18  32.299999  36.647554   35.252072   38.227686\n",
       "55 2022-08-19  31.700001  36.682251   35.225066   38.164865\n",
       "56 2022-08-22  32.049999  36.747431   35.268272   38.318170\n",
       "57 2022-08-23  31.799999  36.831446   35.312904   38.212064"
      ]
     },
     "execution_count": 34,
     "metadata": {},
     "output_type": "execute_result"
    }
   ],
   "source": [
    "pred = val.copy()\n",
    "future = model.make_future_dataframe(periods=365)\n",
    "pred = model.predict(future)\n",
    "# pred[['ds', 'yhat', 'yhat_lower', 'yhat_upper']].tail()\n",
    "\n",
    "val = val.merge(pred[['ds', 'yhat', 'yhat_lower', 'yhat_upper']], on='ds', how='left')\n",
    "val.tail()"
   ]
  },
  {
   "cell_type": "code",
   "execution_count": 35,
   "metadata": {},
   "outputs": [
    {
     "name": "stdout",
     "output_type": "stream",
     "text": [
      "mape of y1: 14.27\n"
     ]
    }
   ],
   "source": [
    "print(f'mape of y1: {mape(val[\"y\"], val[\"yhat\"])}')"
   ]
  },
  {
   "cell_type": "code",
   "execution_count": 36,
   "metadata": {},
   "outputs": [],
   "source": [
    "model4_results = model3_results.drop(['gbr_pred_y1', 'gbr_pred_y2', 'gbr_pred_y3'], axis = 1).copy()\n",
    "val = val.rename({'ds': 'Date', 'yhat': 'gbr_pred_y1'}, axis=1)\n",
    "model4_results = model4_results.merge(val[['Date', 'gbr_pred_y1']], on='Date', how='left')"
   ]
  },
  {
   "cell_type": "code",
   "execution_count": 37,
   "metadata": {},
   "outputs": [
    {
     "data": {
      "image/png": "[encoded data removed]",
      "text/plain": [
       "<Figure size 720x432 with 1 Axes>"
      ]
     },
     "metadata": {},
     "output_type": "display_data"
    }
   ],
   "source": [
    "figure1 = model.plot(pred)"
   ]
  },
  {
   "cell_type": "markdown",
   "metadata": {},
   "source": [
    "## predict high"
   ]
  },
  {
   "cell_type": "code",
   "execution_count": 38,
   "metadata": {},
   "outputs": [],
   "source": [
    "df2618_3 = df2618.copy()\n",
    "df2618_3 = df2618[['Date', 'High']]\n",
    "df2618_3 = df2618_3.rename({'Date': 'ds', 'High': 'y'}, axis=1) # input col name must be ds, y\n",
    "tr, val = df2618_3[:-int(len(df2618_3)*0.10)], df2618_3[-int(len(df2618_3)*0.10):]"
   ]
  },
  {
   "cell_type": "code",
   "execution_count": 39,
   "metadata": {},
   "outputs": [
    {
     "data": {
      "text/html": [
       "<div>\n",
       "<style scoped>\n",
       "    .dataframe tbody tr th:only-of-type {\n",
       "        vertical-align: middle;\n",
       "    }\n",
       "\n",
       "    .dataframe tbody tr th {\n",
       "        vertical-align: top;\n",
       "    }\n",
       "\n",
       "    .dataframe thead th {\n",
       "        text-align: right;\n",
       "    }\n",
       "</style>\n",
       "<table border=\"1\" class=\"dataframe\">\n",
       "  <thead>\n",
       "    <tr style=\"text-align: right;\">\n",
       "      <th></th>\n",
       "      <th>ds</th>\n",
       "      <th>y</th>\n",
       "      <th>yhat</th>\n",
       "      <th>yhat_lower</th>\n",
       "      <th>yhat_upper</th>\n",
       "    </tr>\n",
       "  </thead>\n",
       "  <tbody>\n",
       "    <tr>\n",
       "      <th>53</th>\n",
       "      <td>2022-08-17</td>\n",
       "      <td>32.500000</td>\n",
       "      <td>36.486588</td>\n",
       "      <td>35.060169</td>\n",
       "      <td>37.898646</td>\n",
       "    </tr>\n",
       "    <tr>\n",
       "      <th>54</th>\n",
       "      <td>2022-08-18</td>\n",
       "      <td>32.299999</td>\n",
       "      <td>36.647554</td>\n",
       "      <td>35.110219</td>\n",
       "      <td>38.190660</td>\n",
       "    </tr>\n",
       "    <tr>\n",
       "      <th>55</th>\n",
       "      <td>2022-08-19</td>\n",
       "      <td>32.299999</td>\n",
       "      <td>36.682251</td>\n",
       "      <td>35.227805</td>\n",
       "      <td>38.131438</td>\n",
       "    </tr>\n",
       "    <tr>\n",
       "      <th>56</th>\n",
       "      <td>2022-08-22</td>\n",
       "      <td>32.099998</td>\n",
       "      <td>36.747431</td>\n",
       "      <td>35.321914</td>\n",
       "      <td>38.148760</td>\n",
       "    </tr>\n",
       "    <tr>\n",
       "      <th>57</th>\n",
       "      <td>2022-08-23</td>\n",
       "      <td>32.150002</td>\n",
       "      <td>36.831446</td>\n",
       "      <td>35.258480</td>\n",
       "      <td>38.334506</td>\n",
       "    </tr>\n",
       "  </tbody>\n",
       "</table>\n",
       "</div>"
      ],
      "text/plain": [
       "           ds          y       yhat  yhat_lower  yhat_upper\n",
       "53 2022-08-17  32.500000  36.486588   35.060169   37.898646\n",
       "54 2022-08-18  32.299999  36.647554   35.110219   38.190660\n",
       "55 2022-08-19  32.299999  36.682251   35.227805   38.131438\n",
       "56 2022-08-22  32.099998  36.747431   35.321914   38.148760\n",
       "57 2022-08-23  32.150002  36.831446   35.258480   38.334506"
      ]
     },
     "execution_count": 39,
     "metadata": {},
     "output_type": "execute_result"
    }
   ],
   "source": [
    "pred = val.copy()\n",
    "future = model.make_future_dataframe(periods=365)\n",
    "pred = model.predict(future)\n",
    "\n",
    "val = val.merge(pred[['ds', 'yhat', 'yhat_lower', 'yhat_upper']], on='ds', how='left')\n",
    "val.tail()"
   ]
  },
  {
   "cell_type": "code",
   "execution_count": 40,
   "metadata": {},
   "outputs": [
    {
     "name": "stdout",
     "output_type": "stream",
     "text": [
      "mape of y2: 12.26\n"
     ]
    }
   ],
   "source": [
    "print(f'mape of y2: {mape(val[\"y\"], val[\"yhat\"])}')"
   ]
  },
  {
   "cell_type": "code",
   "execution_count": 41,
   "metadata": {},
   "outputs": [],
   "source": [
    "val = val.rename({'ds': 'Date', 'yhat': 'gbr_pred_y2'}, axis=1)\n",
    "model4_results = model4_results.merge(val[['Date', 'gbr_pred_y2']], on='Date', how='left')"
   ]
  },
  {
   "cell_type": "markdown",
   "metadata": {},
   "source": [
    "## predict low"
   ]
  },
  {
   "cell_type": "code",
   "execution_count": 42,
   "metadata": {},
   "outputs": [],
   "source": [
    "df2618_3 = df2618.copy()\n",
    "df2618_3 = df2618[['Date', 'Low']]\n",
    "df2618_3 = df2618_3.rename({'Date': 'ds', 'Low': 'y'}, axis=1) # input col name must be ds, y\n",
    "tr, val = df2618_3[:-int(len(df2618_3)*0.10)], df2618_3[-int(len(df2618_3)*0.10):]"
   ]
  },
  {
   "cell_type": "code",
   "execution_count": 43,
   "metadata": {},
   "outputs": [
    {
     "data": {
      "text/html": [
       "<div>\n",
       "<style scoped>\n",
       "    .dataframe tbody tr th:only-of-type {\n",
       "        vertical-align: middle;\n",
       "    }\n",
       "\n",
       "    .dataframe tbody tr th {\n",
       "        vertical-align: top;\n",
       "    }\n",
       "\n",
       "    .dataframe thead th {\n",
       "        text-align: right;\n",
       "    }\n",
       "</style>\n",
       "<table border=\"1\" class=\"dataframe\">\n",
       "  <thead>\n",
       "    <tr style=\"text-align: right;\">\n",
       "      <th></th>\n",
       "      <th>ds</th>\n",
       "      <th>y</th>\n",
       "      <th>yhat</th>\n",
       "      <th>yhat_lower</th>\n",
       "      <th>yhat_upper</th>\n",
       "    </tr>\n",
       "  </thead>\n",
       "  <tbody>\n",
       "    <tr>\n",
       "      <th>53</th>\n",
       "      <td>2022-08-17</td>\n",
       "      <td>32.049999</td>\n",
       "      <td>36.486588</td>\n",
       "      <td>35.050383</td>\n",
       "      <td>37.887003</td>\n",
       "    </tr>\n",
       "    <tr>\n",
       "      <th>54</th>\n",
       "      <td>2022-08-18</td>\n",
       "      <td>31.799999</td>\n",
       "      <td>36.647554</td>\n",
       "      <td>35.225914</td>\n",
       "      <td>38.088259</td>\n",
       "    </tr>\n",
       "    <tr>\n",
       "      <th>55</th>\n",
       "      <td>2022-08-19</td>\n",
       "      <td>31.600000</td>\n",
       "      <td>36.682251</td>\n",
       "      <td>35.306365</td>\n",
       "      <td>38.212916</td>\n",
       "    </tr>\n",
       "    <tr>\n",
       "      <th>56</th>\n",
       "      <td>2022-08-22</td>\n",
       "      <td>31.250000</td>\n",
       "      <td>36.747431</td>\n",
       "      <td>35.291817</td>\n",
       "      <td>38.373072</td>\n",
       "    </tr>\n",
       "    <tr>\n",
       "      <th>57</th>\n",
       "      <td>2022-08-23</td>\n",
       "      <td>31.700001</td>\n",
       "      <td>36.831446</td>\n",
       "      <td>35.375776</td>\n",
       "      <td>38.290912</td>\n",
       "    </tr>\n",
       "  </tbody>\n",
       "</table>\n",
       "</div>"
      ],
      "text/plain": [
       "           ds          y       yhat  yhat_lower  yhat_upper\n",
       "53 2022-08-17  32.049999  36.486588   35.050383   37.887003\n",
       "54 2022-08-18  31.799999  36.647554   35.225914   38.088259\n",
       "55 2022-08-19  31.600000  36.682251   35.306365   38.212916\n",
       "56 2022-08-22  31.250000  36.747431   35.291817   38.373072\n",
       "57 2022-08-23  31.700001  36.831446   35.375776   38.290912"
      ]
     },
     "execution_count": 43,
     "metadata": {},
     "output_type": "execute_result"
    }
   ],
   "source": [
    "pred = val.copy()\n",
    "future = model.make_future_dataframe(periods=365)\n",
    "pred = model.predict(future)\n",
    "\n",
    "val = val.merge(pred[['ds', 'yhat', 'yhat_lower', 'yhat_upper']], on='ds', how='left')\n",
    "val.tail()"
   ]
  },
  {
   "cell_type": "code",
   "execution_count": 44,
   "metadata": {},
   "outputs": [
    {
     "name": "stdout",
     "output_type": "stream",
     "text": [
      "mape of y3: 16.07\n"
     ]
    }
   ],
   "source": [
    "print(f'mape of y3: {mape(val[\"y\"], val[\"yhat\"])}')"
   ]
  },
  {
   "cell_type": "code",
   "execution_count": 45,
   "metadata": {},
   "outputs": [],
   "source": [
    "val = val.rename({'ds': 'Date', 'yhat': 'gbr_pred_y3'}, axis=1)\n",
    "model4_results = model4_results.merge(val[['Date', 'gbr_pred_y3']], on='Date', how='left')"
   ]
  },
  {
   "cell_type": "code",
   "execution_count": 46,
   "metadata": {},
   "outputs": [
    {
     "data": {
      "image/png": "[encoded data removed]",
      "text/plain": [
       "<Figure size 720x432 with 1 Axes>"
      ]
     },
     "metadata": {},
     "output_type": "display_data"
    }
   ],
   "source": [
    "figure3 = model.plot(pred)"
   ]
  },
  {
   "cell_type": "markdown",
   "metadata": {},
   "source": [
    "# eda of performance of 4 models"
   ]
  },
  {
   "cell_type": "code",
   "execution_count": 47,
   "metadata": {},
   "outputs": [],
   "source": [
    "del pred, val1, features, df2618_1, df2618_2, df2618_3, future, model"
   ]
  },
  {
   "cell_type": "code",
   "execution_count": 48,
   "metadata": {},
   "outputs": [],
   "source": [
    "# strategy: buy and sell the next day\n",
    "# if pred high >= 2% then buy, if y2 >= 2% then sell at 2%, if y3 <= 2%, else sell at close\n",
    "# if pred low <= 2% then short\n",
    "def buy_sell_strategy(df):\n",
    "    df['buy'] = 0\n",
    "    df['buy_results'] = np.nan\n",
    "    df['profit_per'] = 0\n",
    "\n",
    "    for i in range(len(df)):\n",
    "        if df.loc[i,'gbr_pred_y2'] >= df.loc[i,'Close']*1.02:\n",
    "            df.loc[i,'buy'] = 1\n",
    "        else:\n",
    "            pass\n",
    "    for i in range(len(df)):\n",
    "        if df.loc[i,'y2'] >= df.loc[i,'Close']*1.02 and df.loc[i,'y3'] >= df.loc[i,'Close']*0.98:\n",
    "            df.loc[i,'buy_results'] = df.loc[i,'Close']*1.02\n",
    "        elif df.loc[i,'y2'] < df.loc[i,'Close']*1.02 and df.loc[i,'y3'] <= df.loc[i,'Close']*0.98:\n",
    "            df.loc[i,'buy_results'] = df.loc[i,'Close']*0.98\n",
    "        elif df.loc[i,'y2'] < df.loc[i,'Close']*1.02 and df.loc[i,'y3'] > df.loc[i,'Close']*0.98:\n",
    "            df.loc[i,'buy_results'] = df.loc[i,'Close']\n",
    "        else:\n",
    "            pass \n",
    "    for i in range(len(df)):\n",
    "        if df.loc[i,'buy'] == 1:\n",
    "            df.loc[i,'profit_per'] = (df.loc[i,'buy_results'] - df.loc[i,'Close'])/df.loc[i,'Close']\n",
    "        else:\n",
    "            pass\n",
    "        \n",
    "    return df\n",
    "    "
   ]
  },
  {
   "cell_type": "code",
   "execution_count": 50,
   "metadata": {},
   "outputs": [],
   "source": [
    "# model1_results = buy_sell_strategy(model1_results)\n",
    "model2_results = buy_sell_strategy(model2_results)\n",
    "model3_results = buy_sell_strategy(model3_results)\n",
    "model4_results = buy_sell_strategy(model4_results)"
   ]
  },
  {
   "cell_type": "code",
   "execution_count": 51,
   "metadata": {},
   "outputs": [
    {
     "name": "stdout",
     "output_type": "stream",
     "text": [
      "profit of model 2: 0.38000000000000006\n",
      "profit of model 3: -0.1400000000000003\n",
      "profit of model 4: -0.1400000000000004\n"
     ]
    }
   ],
   "source": [
    "a = model2_results['profit_per'].sum()\n",
    "print(f'profit of model 2: {a}')\n",
    "a = model3_results['profit_per'].sum()\n",
    "print(f'profit of model 3: {a}')\n",
    "a = model4_results['profit_per'].sum()\n",
    "print(f'profit of model 4: {a}')\n",
    "del a "
   ]
  },
  {
   "cell_type": "code",
   "execution_count": 52,
   "metadata": {},
   "outputs": [
    {
     "data": {
      "text/html": [
       "<div>\n",
       "<style scoped>\n",
       "    .dataframe tbody tr th:only-of-type {\n",
       "        vertical-align: middle;\n",
       "    }\n",
       "\n",
       "    .dataframe tbody tr th {\n",
       "        vertical-align: top;\n",
       "    }\n",
       "\n",
       "    .dataframe thead th {\n",
       "        text-align: right;\n",
       "    }\n",
       "</style>\n",
       "<table border=\"1\" class=\"dataframe\">\n",
       "  <thead>\n",
       "    <tr style=\"text-align: right;\">\n",
       "      <th></th>\n",
       "      <th>Date</th>\n",
       "      <th>Open</th>\n",
       "      <th>High</th>\n",
       "      <th>Low</th>\n",
       "      <th>Close</th>\n",
       "      <th>Volume</th>\n",
       "      <th>Dividends</th>\n",
       "      <th>Stock Splits</th>\n",
       "      <th>y1</th>\n",
       "      <th>y2</th>\n",
       "      <th>y3</th>\n",
       "      <th>gbr_pred_y1</th>\n",
       "      <th>gbr_pred_y2</th>\n",
       "      <th>gbr_pred_y3</th>\n",
       "      <th>buy</th>\n",
       "      <th>buy_results</th>\n",
       "      <th>profit_per</th>\n",
       "    </tr>\n",
       "  </thead>\n",
       "  <tbody>\n",
       "    <tr>\n",
       "      <th>0</th>\n",
       "      <td>2022-05-13</td>\n",
       "      <td>31.188101</td>\n",
       "      <td>31.384253</td>\n",
       "      <td>30.305419</td>\n",
       "      <td>31.188101</td>\n",
       "      <td>215961844</td>\n",
       "      <td>0.0</td>\n",
       "      <td>0</td>\n",
       "      <td>30.109268</td>\n",
       "      <td>30.648684</td>\n",
       "      <td>29.913116</td>\n",
       "      <td>30.374064</td>\n",
       "      <td>30.467101</td>\n",
       "      <td>29.596357</td>\n",
       "      <td>0</td>\n",
       "      <td>30.564339</td>\n",
       "      <td>0.00</td>\n",
       "    </tr>\n",
       "    <tr>\n",
       "      <th>1</th>\n",
       "      <td>2022-05-16</td>\n",
       "      <td>31.286177</td>\n",
       "      <td>31.923669</td>\n",
       "      <td>30.697721</td>\n",
       "      <td>31.629442</td>\n",
       "      <td>131323188</td>\n",
       "      <td>0.0</td>\n",
       "      <td>0</td>\n",
       "      <td>31.727516</td>\n",
       "      <td>31.874631</td>\n",
       "      <td>30.501571</td>\n",
       "      <td>30.757756</td>\n",
       "      <td>31.426949</td>\n",
       "      <td>30.037643</td>\n",
       "      <td>0</td>\n",
       "      <td>30.996853</td>\n",
       "      <td>0.00</td>\n",
       "    </tr>\n",
       "    <tr>\n",
       "      <th>2</th>\n",
       "      <td>2022-05-17</td>\n",
       "      <td>31.580405</td>\n",
       "      <td>31.972706</td>\n",
       "      <td>30.893874</td>\n",
       "      <td>31.188101</td>\n",
       "      <td>128984258</td>\n",
       "      <td>0.0</td>\n",
       "      <td>0</td>\n",
       "      <td>31.335215</td>\n",
       "      <td>32.119820</td>\n",
       "      <td>31.286176</td>\n",
       "      <td>30.936732</td>\n",
       "      <td>31.469919</td>\n",
       "      <td>30.054984</td>\n",
       "      <td>0</td>\n",
       "      <td>31.811863</td>\n",
       "      <td>0.00</td>\n",
       "    </tr>\n",
       "    <tr>\n",
       "      <th>3</th>\n",
       "      <td>2022-05-18</td>\n",
       "      <td>31.727516</td>\n",
       "      <td>32.021746</td>\n",
       "      <td>31.139063</td>\n",
       "      <td>31.139063</td>\n",
       "      <td>101705222</td>\n",
       "      <td>0.0</td>\n",
       "      <td>0</td>\n",
       "      <td>32.904427</td>\n",
       "      <td>32.953464</td>\n",
       "      <td>31.678479</td>\n",
       "      <td>31.520565</td>\n",
       "      <td>32.415603</td>\n",
       "      <td>30.964014</td>\n",
       "      <td>1</td>\n",
       "      <td>31.761844</td>\n",
       "      <td>0.02</td>\n",
       "    </tr>\n",
       "    <tr>\n",
       "      <th>4</th>\n",
       "      <td>2022-05-19</td>\n",
       "      <td>29.913117</td>\n",
       "      <td>30.354458</td>\n",
       "      <td>28.932359</td>\n",
       "      <td>30.158306</td>\n",
       "      <td>217553520</td>\n",
       "      <td>0.0</td>\n",
       "      <td>0</td>\n",
       "      <td>32.217896</td>\n",
       "      <td>33.296731</td>\n",
       "      <td>32.021747</td>\n",
       "      <td>31.418702</td>\n",
       "      <td>32.379314</td>\n",
       "      <td>30.940823</td>\n",
       "      <td>1</td>\n",
       "      <td>30.761472</td>\n",
       "      <td>0.02</td>\n",
       "    </tr>\n",
       "    <tr>\n",
       "      <th>5</th>\n",
       "      <td>2022-05-20</td>\n",
       "      <td>30.354458</td>\n",
       "      <td>30.648684</td>\n",
       "      <td>29.913116</td>\n",
       "      <td>30.109268</td>\n",
       "      <td>104823972</td>\n",
       "      <td>0.0</td>\n",
       "      <td>0</td>\n",
       "      <td>32.266937</td>\n",
       "      <td>33.247695</td>\n",
       "      <td>32.266937</td>\n",
       "      <td>31.673436</td>\n",
       "      <td>33.106159</td>\n",
       "      <td>31.742279</td>\n",
       "      <td>1</td>\n",
       "      <td>30.711454</td>\n",
       "      <td>0.02</td>\n",
       "    </tr>\n",
       "    <tr>\n",
       "      <th>6</th>\n",
       "      <td>2022-05-23</td>\n",
       "      <td>30.501571</td>\n",
       "      <td>31.874631</td>\n",
       "      <td>30.501571</td>\n",
       "      <td>31.727516</td>\n",
       "      <td>125036456</td>\n",
       "      <td>0.0</td>\n",
       "      <td>0</td>\n",
       "      <td>33.541920</td>\n",
       "      <td>34.032299</td>\n",
       "      <td>32.953463</td>\n",
       "      <td>32.652707</td>\n",
       "      <td>33.418883</td>\n",
       "      <td>32.555273</td>\n",
       "      <td>1</td>\n",
       "      <td>32.362066</td>\n",
       "      <td>0.02</td>\n",
       "    </tr>\n",
       "  </tbody>\n",
       "</table>\n",
       "</div>"
      ],
      "text/plain": [
       "        Date       Open       High        Low      Close     Volume  \\\n",
       "0 2022-05-13  31.188101  31.384253  30.305419  31.188101  215961844   \n",
       "1 2022-05-16  31.286177  31.923669  30.697721  31.629442  131323188   \n",
       "2 2022-05-17  31.580405  31.972706  30.893874  31.188101  128984258   \n",
       "3 2022-05-18  31.727516  32.021746  31.139063  31.139063  101705222   \n",
       "4 2022-05-19  29.913117  30.354458  28.932359  30.158306  217553520   \n",
       "5 2022-05-20  30.354458  30.648684  29.913116  30.109268  104823972   \n",
       "6 2022-05-23  30.501571  31.874631  30.501571  31.727516  125036456   \n",
       "\n",
       "   Dividends  Stock Splits         y1         y2         y3  gbr_pred_y1  \\\n",
       "0        0.0             0  30.109268  30.648684  29.913116    30.374064   \n",
       "1        0.0             0  31.727516  31.874631  30.501571    30.757756   \n",
       "2        0.0             0  31.335215  32.119820  31.286176    30.936732   \n",
       "3        0.0             0  32.904427  32.953464  31.678479    31.520565   \n",
       "4        0.0             0  32.217896  33.296731  32.021747    31.418702   \n",
       "5        0.0             0  32.266937  33.247695  32.266937    31.673436   \n",
       "6        0.0             0  33.541920  34.032299  32.953463    32.652707   \n",
       "\n",
       "   gbr_pred_y2  gbr_pred_y3  buy  buy_results  profit_per  \n",
       "0    30.467101    29.596357    0    30.564339        0.00  \n",
       "1    31.426949    30.037643    0    30.996853        0.00  \n",
       "2    31.469919    30.054984    0    31.811863        0.00  \n",
       "3    32.415603    30.964014    1    31.761844        0.02  \n",
       "4    32.379314    30.940823    1    30.761472        0.02  \n",
       "5    33.106159    31.742279    1    30.711454        0.02  \n",
       "6    33.418883    32.555273    1    32.362066        0.02  "
      ]
     },
     "execution_count": 52,
     "metadata": {},
     "output_type": "execute_result"
    }
   ],
   "source": [
    "model2_results.head(7)"
   ]
  },
  {
   "cell_type": "code",
   "execution_count": 53,
   "metadata": {},
   "outputs": [
    {
     "data": {
      "text/html": [
       "<div>\n",
       "<style scoped>\n",
       "    .dataframe tbody tr th:only-of-type {\n",
       "        vertical-align: middle;\n",
       "    }\n",
       "\n",
       "    .dataframe tbody tr th {\n",
       "        vertical-align: top;\n",
       "    }\n",
       "\n",
       "    .dataframe thead th {\n",
       "        text-align: right;\n",
       "    }\n",
       "</style>\n",
       "<table border=\"1\" class=\"dataframe\">\n",
       "  <thead>\n",
       "    <tr style=\"text-align: right;\">\n",
       "      <th></th>\n",
       "      <th>Date</th>\n",
       "      <th>Open</th>\n",
       "      <th>High</th>\n",
       "      <th>Low</th>\n",
       "      <th>Close</th>\n",
       "      <th>Volume</th>\n",
       "      <th>Dividends</th>\n",
       "      <th>Stock Splits</th>\n",
       "      <th>y1</th>\n",
       "      <th>y2</th>\n",
       "      <th>y3</th>\n",
       "      <th>gbr_pred_y1</th>\n",
       "      <th>gbr_pred_y2</th>\n",
       "      <th>gbr_pred_y3</th>\n",
       "      <th>buy</th>\n",
       "      <th>buy_results</th>\n",
       "      <th>profit_per</th>\n",
       "    </tr>\n",
       "  </thead>\n",
       "  <tbody>\n",
       "    <tr>\n",
       "      <th>0</th>\n",
       "      <td>2022-06-01</td>\n",
       "      <td>33.639994</td>\n",
       "      <td>33.885183</td>\n",
       "      <td>33.296730</td>\n",
       "      <td>33.541920</td>\n",
       "      <td>89477545</td>\n",
       "      <td>0.0</td>\n",
       "      <td>0</td>\n",
       "      <td>34.816906</td>\n",
       "      <td>34.964021</td>\n",
       "      <td>33.394806</td>\n",
       "      <td>33.633172</td>\n",
       "      <td>34.050221</td>\n",
       "      <td>32.941090</td>\n",
       "      <td>0</td>\n",
       "      <td>34.212758</td>\n",
       "      <td>0.00</td>\n",
       "    </tr>\n",
       "    <tr>\n",
       "      <th>1</th>\n",
       "      <td>2022-06-02</td>\n",
       "      <td>33.541921</td>\n",
       "      <td>34.964021</td>\n",
       "      <td>33.394806</td>\n",
       "      <td>34.816906</td>\n",
       "      <td>177272972</td>\n",
       "      <td>0.0</td>\n",
       "      <td>0</td>\n",
       "      <td>34.228451</td>\n",
       "      <td>34.816904</td>\n",
       "      <td>33.934220</td>\n",
       "      <td>34.177318</td>\n",
       "      <td>34.988210</td>\n",
       "      <td>33.668026</td>\n",
       "      <td>0</td>\n",
       "      <td>34.120568</td>\n",
       "      <td>0.00</td>\n",
       "    </tr>\n",
       "    <tr>\n",
       "      <th>2</th>\n",
       "      <td>2022-06-06</td>\n",
       "      <td>34.718830</td>\n",
       "      <td>34.816904</td>\n",
       "      <td>33.934220</td>\n",
       "      <td>34.228451</td>\n",
       "      <td>111592640</td>\n",
       "      <td>0.0</td>\n",
       "      <td>0</td>\n",
       "      <td>33.443844</td>\n",
       "      <td>34.424602</td>\n",
       "      <td>33.394807</td>\n",
       "      <td>34.325043</td>\n",
       "      <td>35.013434</td>\n",
       "      <td>33.682719</td>\n",
       "      <td>1</td>\n",
       "      <td>33.543882</td>\n",
       "      <td>-0.02</td>\n",
       "    </tr>\n",
       "    <tr>\n",
       "      <th>3</th>\n",
       "      <td>2022-06-07</td>\n",
       "      <td>34.228453</td>\n",
       "      <td>34.424602</td>\n",
       "      <td>33.394807</td>\n",
       "      <td>33.443844</td>\n",
       "      <td>99254056</td>\n",
       "      <td>0.0</td>\n",
       "      <td>0</td>\n",
       "      <td>33.198654</td>\n",
       "      <td>33.934223</td>\n",
       "      <td>32.953465</td>\n",
       "      <td>33.712296</td>\n",
       "      <td>34.310518</td>\n",
       "      <td>33.035144</td>\n",
       "      <td>1</td>\n",
       "      <td>33.443844</td>\n",
       "      <td>0.00</td>\n",
       "    </tr>\n",
       "    <tr>\n",
       "      <th>4</th>\n",
       "      <td>2022-06-08</td>\n",
       "      <td>33.836148</td>\n",
       "      <td>33.934223</td>\n",
       "      <td>32.953465</td>\n",
       "      <td>33.198654</td>\n",
       "      <td>90488256</td>\n",
       "      <td>0.0</td>\n",
       "      <td>0</td>\n",
       "      <td>33.492882</td>\n",
       "      <td>33.590956</td>\n",
       "      <td>32.561161</td>\n",
       "      <td>33.508112</td>\n",
       "      <td>33.839167</td>\n",
       "      <td>32.814763</td>\n",
       "      <td>0</td>\n",
       "      <td>33.198654</td>\n",
       "      <td>0.00</td>\n",
       "    </tr>\n",
       "    <tr>\n",
       "      <th>5</th>\n",
       "      <td>2022-06-09</td>\n",
       "      <td>32.953462</td>\n",
       "      <td>33.590956</td>\n",
       "      <td>32.561161</td>\n",
       "      <td>33.492882</td>\n",
       "      <td>64226846</td>\n",
       "      <td>0.0</td>\n",
       "      <td>0</td>\n",
       "      <td>32.217896</td>\n",
       "      <td>33.247694</td>\n",
       "      <td>32.217896</td>\n",
       "      <td>32.915630</td>\n",
       "      <td>34.305325</td>\n",
       "      <td>32.759225</td>\n",
       "      <td>1</td>\n",
       "      <td>32.823024</td>\n",
       "      <td>-0.02</td>\n",
       "    </tr>\n",
       "    <tr>\n",
       "      <th>6</th>\n",
       "      <td>2022-06-10</td>\n",
       "      <td>32.904427</td>\n",
       "      <td>33.247694</td>\n",
       "      <td>32.217896</td>\n",
       "      <td>32.217896</td>\n",
       "      <td>126277692</td>\n",
       "      <td>0.0</td>\n",
       "      <td>0</td>\n",
       "      <td>32.021748</td>\n",
       "      <td>32.659238</td>\n",
       "      <td>31.188101</td>\n",
       "      <td>31.883907</td>\n",
       "      <td>32.895133</td>\n",
       "      <td>32.227917</td>\n",
       "      <td>1</td>\n",
       "      <td>31.573538</td>\n",
       "      <td>-0.02</td>\n",
       "    </tr>\n",
       "  </tbody>\n",
       "</table>\n",
       "</div>"
      ],
      "text/plain": [
       "        Date       Open       High        Low      Close     Volume  \\\n",
       "0 2022-06-01  33.639994  33.885183  33.296730  33.541920   89477545   \n",
       "1 2022-06-02  33.541921  34.964021  33.394806  34.816906  177272972   \n",
       "2 2022-06-06  34.718830  34.816904  33.934220  34.228451  111592640   \n",
       "3 2022-06-07  34.228453  34.424602  33.394807  33.443844   99254056   \n",
       "4 2022-06-08  33.836148  33.934223  32.953465  33.198654   90488256   \n",
       "5 2022-06-09  32.953462  33.590956  32.561161  33.492882   64226846   \n",
       "6 2022-06-10  32.904427  33.247694  32.217896  32.217896  126277692   \n",
       "\n",
       "   Dividends  Stock Splits         y1         y2         y3  gbr_pred_y1  \\\n",
       "0        0.0             0  34.816906  34.964021  33.394806    33.633172   \n",
       "1        0.0             0  34.228451  34.816904  33.934220    34.177318   \n",
       "2        0.0             0  33.443844  34.424602  33.394807    34.325043   \n",
       "3        0.0             0  33.198654  33.934223  32.953465    33.712296   \n",
       "4        0.0             0  33.492882  33.590956  32.561161    33.508112   \n",
       "5        0.0             0  32.217896  33.247694  32.217896    32.915630   \n",
       "6        0.0             0  32.021748  32.659238  31.188101    31.883907   \n",
       "\n",
       "   gbr_pred_y2  gbr_pred_y3  buy  buy_results  profit_per  \n",
       "0    34.050221    32.941090    0    34.212758        0.00  \n",
       "1    34.988210    33.668026    0    34.120568        0.00  \n",
       "2    35.013434    33.682719    1    33.543882       -0.02  \n",
       "3    34.310518    33.035144    1    33.443844        0.00  \n",
       "4    33.839167    32.814763    0    33.198654        0.00  \n",
       "5    34.305325    32.759225    1    32.823024       -0.02  \n",
       "6    32.895133    32.227917    1    31.573538       -0.02  "
      ]
     },
     "execution_count": 53,
     "metadata": {},
     "output_type": "execute_result"
    }
   ],
   "source": [
    "model3_results.head(7)"
   ]
  },
  {
   "cell_type": "code",
   "execution_count": 54,
   "metadata": {},
   "outputs": [
    {
     "data": {
      "text/html": [
       "<div>\n",
       "<style scoped>\n",
       "    .dataframe tbody tr th:only-of-type {\n",
       "        vertical-align: middle;\n",
       "    }\n",
       "\n",
       "    .dataframe tbody tr th {\n",
       "        vertical-align: top;\n",
       "    }\n",
       "\n",
       "    .dataframe thead th {\n",
       "        text-align: right;\n",
       "    }\n",
       "</style>\n",
       "<table border=\"1\" class=\"dataframe\">\n",
       "  <thead>\n",
       "    <tr style=\"text-align: right;\">\n",
       "      <th></th>\n",
       "      <th>Date</th>\n",
       "      <th>Open</th>\n",
       "      <th>High</th>\n",
       "      <th>Low</th>\n",
       "      <th>Close</th>\n",
       "      <th>Volume</th>\n",
       "      <th>Dividends</th>\n",
       "      <th>Stock Splits</th>\n",
       "      <th>y1</th>\n",
       "      <th>y2</th>\n",
       "      <th>y3</th>\n",
       "      <th>gbr_pred_y1</th>\n",
       "      <th>gbr_pred_y2</th>\n",
       "      <th>gbr_pred_y3</th>\n",
       "      <th>buy</th>\n",
       "      <th>buy_results</th>\n",
       "      <th>profit_per</th>\n",
       "    </tr>\n",
       "  </thead>\n",
       "  <tbody>\n",
       "    <tr>\n",
       "      <th>0</th>\n",
       "      <td>2022-06-01</td>\n",
       "      <td>33.639994</td>\n",
       "      <td>33.885183</td>\n",
       "      <td>33.296730</td>\n",
       "      <td>33.541920</td>\n",
       "      <td>89477545</td>\n",
       "      <td>0.0</td>\n",
       "      <td>0</td>\n",
       "      <td>34.816906</td>\n",
       "      <td>34.964021</td>\n",
       "      <td>33.394806</td>\n",
       "      <td>NaN</td>\n",
       "      <td>NaN</td>\n",
       "      <td>NaN</td>\n",
       "      <td>0</td>\n",
       "      <td>34.212758</td>\n",
       "      <td>0.00</td>\n",
       "    </tr>\n",
       "    <tr>\n",
       "      <th>1</th>\n",
       "      <td>2022-06-02</td>\n",
       "      <td>33.541921</td>\n",
       "      <td>34.964021</td>\n",
       "      <td>33.394806</td>\n",
       "      <td>34.816906</td>\n",
       "      <td>177272972</td>\n",
       "      <td>0.0</td>\n",
       "      <td>0</td>\n",
       "      <td>34.228451</td>\n",
       "      <td>34.816904</td>\n",
       "      <td>33.934220</td>\n",
       "      <td>34.853193</td>\n",
       "      <td>34.853193</td>\n",
       "      <td>34.853193</td>\n",
       "      <td>0</td>\n",
       "      <td>34.120568</td>\n",
       "      <td>0.00</td>\n",
       "    </tr>\n",
       "    <tr>\n",
       "      <th>2</th>\n",
       "      <td>2022-06-06</td>\n",
       "      <td>34.718830</td>\n",
       "      <td>34.816904</td>\n",
       "      <td>33.934220</td>\n",
       "      <td>34.228451</td>\n",
       "      <td>111592640</td>\n",
       "      <td>0.0</td>\n",
       "      <td>0</td>\n",
       "      <td>33.443844</td>\n",
       "      <td>34.424602</td>\n",
       "      <td>33.394807</td>\n",
       "      <td>35.656151</td>\n",
       "      <td>35.656151</td>\n",
       "      <td>35.656151</td>\n",
       "      <td>1</td>\n",
       "      <td>33.543882</td>\n",
       "      <td>-0.02</td>\n",
       "    </tr>\n",
       "    <tr>\n",
       "      <th>3</th>\n",
       "      <td>2022-06-07</td>\n",
       "      <td>34.228453</td>\n",
       "      <td>34.424602</td>\n",
       "      <td>33.394807</td>\n",
       "      <td>33.443844</td>\n",
       "      <td>99254056</td>\n",
       "      <td>0.0</td>\n",
       "      <td>0</td>\n",
       "      <td>33.198654</td>\n",
       "      <td>33.934223</td>\n",
       "      <td>32.953465</td>\n",
       "      <td>35.909373</td>\n",
       "      <td>35.909373</td>\n",
       "      <td>35.909373</td>\n",
       "      <td>1</td>\n",
       "      <td>33.443844</td>\n",
       "      <td>0.00</td>\n",
       "    </tr>\n",
       "    <tr>\n",
       "      <th>4</th>\n",
       "      <td>2022-06-08</td>\n",
       "      <td>33.836148</td>\n",
       "      <td>33.934223</td>\n",
       "      <td>32.953465</td>\n",
       "      <td>33.198654</td>\n",
       "      <td>90488256</td>\n",
       "      <td>0.0</td>\n",
       "      <td>0</td>\n",
       "      <td>33.492882</td>\n",
       "      <td>33.590956</td>\n",
       "      <td>32.561161</td>\n",
       "      <td>36.136912</td>\n",
       "      <td>36.136912</td>\n",
       "      <td>36.136912</td>\n",
       "      <td>1</td>\n",
       "      <td>33.198654</td>\n",
       "      <td>0.00</td>\n",
       "    </tr>\n",
       "    <tr>\n",
       "      <th>5</th>\n",
       "      <td>2022-06-09</td>\n",
       "      <td>32.953462</td>\n",
       "      <td>33.590956</td>\n",
       "      <td>32.561161</td>\n",
       "      <td>33.492882</td>\n",
       "      <td>64226846</td>\n",
       "      <td>0.0</td>\n",
       "      <td>0</td>\n",
       "      <td>32.217896</td>\n",
       "      <td>33.247694</td>\n",
       "      <td>32.217896</td>\n",
       "      <td>36.395465</td>\n",
       "      <td>36.395465</td>\n",
       "      <td>36.395465</td>\n",
       "      <td>1</td>\n",
       "      <td>32.823024</td>\n",
       "      <td>-0.02</td>\n",
       "    </tr>\n",
       "    <tr>\n",
       "      <th>6</th>\n",
       "      <td>2022-06-10</td>\n",
       "      <td>32.904427</td>\n",
       "      <td>33.247694</td>\n",
       "      <td>32.217896</td>\n",
       "      <td>32.217896</td>\n",
       "      <td>126277692</td>\n",
       "      <td>0.0</td>\n",
       "      <td>0</td>\n",
       "      <td>32.021748</td>\n",
       "      <td>32.659238</td>\n",
       "      <td>31.188101</td>\n",
       "      <td>36.513515</td>\n",
       "      <td>36.513515</td>\n",
       "      <td>36.513515</td>\n",
       "      <td>1</td>\n",
       "      <td>31.573538</td>\n",
       "      <td>-0.02</td>\n",
       "    </tr>\n",
       "  </tbody>\n",
       "</table>\n",
       "</div>"
      ],
      "text/plain": [
       "        Date       Open       High        Low      Close     Volume  \\\n",
       "0 2022-06-01  33.639994  33.885183  33.296730  33.541920   89477545   \n",
       "1 2022-06-02  33.541921  34.964021  33.394806  34.816906  177272972   \n",
       "2 2022-06-06  34.718830  34.816904  33.934220  34.228451  111592640   \n",
       "3 2022-06-07  34.228453  34.424602  33.394807  33.443844   99254056   \n",
       "4 2022-06-08  33.836148  33.934223  32.953465  33.198654   90488256   \n",
       "5 2022-06-09  32.953462  33.590956  32.561161  33.492882   64226846   \n",
       "6 2022-06-10  32.904427  33.247694  32.217896  32.217896  126277692   \n",
       "\n",
       "   Dividends  Stock Splits         y1         y2         y3  gbr_pred_y1  \\\n",
       "0        0.0             0  34.816906  34.964021  33.394806          NaN   \n",
       "1        0.0             0  34.228451  34.816904  33.934220    34.853193   \n",
       "2        0.0             0  33.443844  34.424602  33.394807    35.656151   \n",
       "3        0.0             0  33.198654  33.934223  32.953465    35.909373   \n",
       "4        0.0             0  33.492882  33.590956  32.561161    36.136912   \n",
       "5        0.0             0  32.217896  33.247694  32.217896    36.395465   \n",
       "6        0.0             0  32.021748  32.659238  31.188101    36.513515   \n",
       "\n",
       "   gbr_pred_y2  gbr_pred_y3  buy  buy_results  profit_per  \n",
       "0          NaN          NaN    0    34.212758        0.00  \n",
       "1    34.853193    34.853193    0    34.120568        0.00  \n",
       "2    35.656151    35.656151    1    33.543882       -0.02  \n",
       "3    35.909373    35.909373    1    33.443844        0.00  \n",
       "4    36.136912    36.136912    1    33.198654        0.00  \n",
       "5    36.395465    36.395465    1    32.823024       -0.02  \n",
       "6    36.513515    36.513515    1    31.573538       -0.02  "
      ]
     },
     "execution_count": 54,
     "metadata": {},
     "output_type": "execute_result"
    }
   ],
   "source": [
    "model4_results.head(7)"
   ]
  },
  {
   "cell_type": "code",
   "execution_count": null,
   "metadata": {},
   "outputs": [],
   "source": []
  }
 ],
 "metadata": {
  "kernelspec": {
   "display_name": "Python 3.7.5 ('public')",
   "language": "python",
   "name": "python3"
  },
  "language_info": {
   "codemirror_mode": {
    "name": "ipython",
    "version": 3
   },
   "file_extension": ".py",
   "mimetype": "text/x-python",
   "name": "python",
   "nbconvert_exporter": "python",
   "pygments_lexer": "ipython3",
   "version": "3.7.5"
  },
  "orig_nbformat": 4,
  "vscode": {
   "interpreter": {
    "hash": "403dd721e4f9af011f34dbbbba98cf0ef4b98cbe0d0f4199e2bf801ce47eb5f8"
   }
  }
 },
 "nbformat": 4,
 "nbformat_minor": 2
}
